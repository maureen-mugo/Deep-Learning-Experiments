{
 "cells": [
  {
   "cell_type": "markdown",
   "id": "ab2163e1-f8de-47d7-b18a-468edba83b4a",
   "metadata": {},
   "source": [
    "This project creates a model that classifies handwritten 3s and 7s from the MNIST sample dataset."
   ]
  },
  {
   "cell_type": "code",
   "execution_count": 1,
   "id": "625fc098-c60e-47ac-b1be-405055bfe659",
   "metadata": {},
   "outputs": [],
   "source": [
    "!pip install -Uqq fastai"
   ]
  },
  {
   "cell_type": "code",
   "execution_count": 2,
   "id": "f66977ab-35d7-49ed-a040-f73d75702c4a",
   "metadata": {},
   "outputs": [],
   "source": [
    "from fastai.vision.all import *\n",
    "\n",
    "matplotlib.rc('image', cmap='Greys')"
   ]
  },
  {
   "cell_type": "code",
   "execution_count": 3,
   "id": "3bdfd041-02f2-4c38-b197-ebacfde77b89",
   "metadata": {},
   "outputs": [],
   "source": [
    "path = untar_data(URLs.MNIST_SAMPLE)"
   ]
  },
  {
   "cell_type": "code",
   "execution_count": 4,
   "id": "8e05f12e-6360-4371-922f-2c862be46318",
   "metadata": {},
   "outputs": [],
   "source": [
    "Path.BASE_PATH = path"
   ]
  },
  {
   "cell_type": "code",
   "execution_count": 5,
   "id": "d036c1f8-3af9-4f05-be8a-4c4ba5503a5b",
   "metadata": {},
   "outputs": [
    {
     "data": {
      "text/plain": [
       "Path('.')"
      ]
     },
     "execution_count": 5,
     "metadata": {},
     "output_type": "execute_result"
    }
   ],
   "source": [
    "path"
   ]
  },
  {
   "cell_type": "markdown",
   "id": "d631f5a8-a808-4fbd-aceb-8086c316f272",
   "metadata": {},
   "source": [
    "We check what's in path:"
   ]
  },
  {
   "cell_type": "code",
   "execution_count": 6,
   "id": "6a3779fd-441f-478b-8039-13faf389ca5e",
   "metadata": {},
   "outputs": [
    {
     "data": {
      "text/plain": [
       "(#3) [Path('train'),Path('labels.csv'),Path('valid')]"
      ]
     },
     "execution_count": 6,
     "metadata": {},
     "output_type": "execute_result"
    }
   ],
   "source": [
    "path.ls()"
   ]
  },
  {
   "cell_type": "markdown",
   "id": "c4a03b57-cb2a-450c-aad8-d4172bc235a7",
   "metadata": {},
   "source": [
    "Checking the train folder:"
   ]
  },
  {
   "cell_type": "code",
   "execution_count": 7,
   "id": "7907a442-d636-487c-a773-062ee9f4209a",
   "metadata": {},
   "outputs": [
    {
     "data": {
      "text/plain": [
       "(#2) [Path('train/7'),Path('train/3')]"
      ]
     },
     "execution_count": 7,
     "metadata": {},
     "output_type": "execute_result"
    }
   ],
   "source": [
    "(path/'train').ls()"
   ]
  },
  {
   "cell_type": "markdown",
   "id": "d9ae6897-0806-4a0f-ad72-ab6bec8785a3",
   "metadata": {},
   "source": [
    "We can sort the training data:"
   ]
  },
  {
   "cell_type": "code",
   "execution_count": 8,
   "id": "e3d1ac33-dd8b-4013-99dc-d241a88d4194",
   "metadata": {},
   "outputs": [],
   "source": [
    "threes = (path/'train'/'3').ls().sorted()\n",
    "sevens = (path/'train'/'7').ls().sorted()"
   ]
  },
  {
   "cell_type": "code",
   "execution_count": 9,
   "id": "c05a333d-f224-4983-8ed8-760d16696aa1",
   "metadata": {},
   "outputs": [
    {
     "data": {
      "text/plain": [
       "(#6131) [Path('train/3/10.png'),Path('train/3/10000.png'),Path('train/3/10011.png'),Path('train/3/10031.png'),Path('train/3/10034.png'),Path('train/3/10042.png'),Path('train/3/10052.png'),Path('train/3/1007.png'),Path('train/3/10074.png'),Path('train/3/10091.png')...]"
      ]
     },
     "execution_count": 9,
     "metadata": {},
     "output_type": "execute_result"
    }
   ],
   "source": [
    "threes"
   ]
  },
  {
   "cell_type": "code",
   "execution_count": 10,
   "id": "39b3f772-3158-4470-b4f7-a63c11d469de",
   "metadata": {},
   "outputs": [
    {
     "data": {
      "text/plain": [
       "(#6265) [Path('train/7/10002.png'),Path('train/7/1001.png'),Path('train/7/10014.png'),Path('train/7/10019.png'),Path('train/7/10039.png'),Path('train/7/10046.png'),Path('train/7/10050.png'),Path('train/7/10063.png'),Path('train/7/10077.png'),Path('train/7/10086.png')...]"
      ]
     },
     "execution_count": 10,
     "metadata": {},
     "output_type": "execute_result"
    }
   ],
   "source": [
    "sevens"
   ]
  },
  {
   "cell_type": "markdown",
   "id": "1b8d08c9-ed1b-4ff7-98ac-fc1618e932bf",
   "metadata": {},
   "source": [
    "Taking a look at one image from the 3s folder:"
   ]
  },
  {
   "cell_type": "code",
   "execution_count": 11,
   "id": "7aa44857-e996-48a6-90f5-b5ce36924b9e",
   "metadata": {},
   "outputs": [
    {
     "data": {
      "image/png": "[encoded data removed]",
      "text/plain": [
       "<PIL.PngImagePlugin.PngImageFile image mode=L size=28x28>"
      ]
     },
     "execution_count": 11,
     "metadata": {},
     "output_type": "execute_result"
    }
   ],
   "source": [
    "im3_path = threes[1]\n",
    "im3 = Image.open(im3_path)\n",
    "im3"
   ]
  },
  {
   "cell_type": "code",
   "execution_count": 12,
   "id": "7aecba07-ac6c-4346-a01e-34e01c7ff39d",
   "metadata": {},
   "outputs": [
    {
     "data": {
      "text/plain": [
       "PIL.PngImagePlugin.PngImageFile"
      ]
     },
     "execution_count": 12,
     "metadata": {},
     "output_type": "execute_result"
    }
   ],
   "source": [
    "type(im3)"
   ]
  },
  {
   "cell_type": "markdown",
   "id": "5f13c4e8-ba7c-4197-a957-e251ef2b6531",
   "metadata": {},
   "source": [
    "We need to represent this in number format as everything is represented as numbers in computers.\n",
    "To view the number that represent this image we convert it to a Numpy array or PyTorch tensor."
   ]
  },
  {
   "cell_type": "markdown",
   "id": "be952790-3433-4aeb-9159-da1eda58b13f",
   "metadata": {},
   "source": [
    "\n",
    "To convert it to a Numpy array:"
   ]
  },
  {
   "cell_type": "code",
   "execution_count": 13,
   "id": "4ee2ebac-8af7-4792-81ca-6d027ffa10c8",
   "metadata": {},
   "outputs": [
    {
     "data": {
      "text/plain": [
       "array([[  0,   0,   0,   0,   0,   0],\n",
       "       [  0,   0,   0,   0,   0,  29],\n",
       "       [  0,   0,   0,  48, 166, 224],\n",
       "       [  0,  93, 244, 249, 253, 187],\n",
       "       [  0, 107, 253, 253, 230,  48],\n",
       "       [  0,   3,  20,  20,  15,   0]], dtype=uint8)"
      ]
     },
     "execution_count": 13,
     "metadata": {},
     "output_type": "execute_result"
    }
   ],
   "source": [
    "array(im3)[4:10, 4:10]"
   ]
  },
  {
   "cell_type": "markdown",
   "id": "e7186f17-14f3-4175-bb2c-0acb534da250",
   "metadata": {},
   "source": [
    "To convert to a PyTorch Tensor:"
   ]
  },
  {
   "cell_type": "code",
   "execution_count": 14,
   "id": "e3cb2480-04da-402c-9eee-6a0d0a6ccd66",
   "metadata": {},
   "outputs": [
    {
     "data": {
      "text/plain": [
       "tensor([[  0,   0,   0,   0,   0,   0],\n",
       "        [  0,   0,   0,   0,   0,  29],\n",
       "        [  0,   0,   0,  48, 166, 224],\n",
       "        [  0,  93, 244, 249, 253, 187],\n",
       "        [  0, 107, 253, 253, 230,  48],\n",
       "        [  0,   3,  20,  20,  15,   0]], dtype=torch.uint8)"
      ]
     },
     "execution_count": 14,
     "metadata": {},
     "output_type": "execute_result"
    }
   ],
   "source": [
    "tensor(im3)[4:10, 4:10]"
   ]
  },
  {
   "cell_type": "code",
   "execution_count": 15,
   "id": "00383d47-3bc2-45f7-88eb-e37eda6367bd",
   "metadata": {},
   "outputs": [
    {
     "data": {
      "text/html": [
       "<style type=\"text/css\">\n",
       "#T_87241_row0_col0, #T_87241_row0_col1, #T_87241_row0_col2, #T_87241_row0_col3, #T_87241_row0_col4, #T_87241_row0_col5, #T_87241_row0_col6, #T_87241_row0_col7, #T_87241_row0_col8, #T_87241_row0_col9, #T_87241_row0_col10, #T_87241_row0_col11, #T_87241_row0_col12, #T_87241_row0_col13, #T_87241_row0_col14, #T_87241_row0_col15, #T_87241_row0_col16, #T_87241_row0_col17, #T_87241_row1_col0, #T_87241_row1_col1, #T_87241_row1_col2, #T_87241_row1_col3, #T_87241_row1_col4, #T_87241_row1_col15, #T_87241_row1_col16, #T_87241_row1_col17, #T_87241_row2_col0, #T_87241_row2_col1, #T_87241_row2_col2, #T_87241_row2_col15, #T_87241_row2_col16, #T_87241_row2_col17, #T_87241_row3_col0, #T_87241_row3_col15, #T_87241_row3_col16, #T_87241_row3_col17, #T_87241_row4_col0, #T_87241_row4_col6, #T_87241_row4_col7, #T_87241_row4_col8, #T_87241_row4_col9, #T_87241_row4_col10, #T_87241_row4_col15, #T_87241_row4_col16, #T_87241_row4_col17, #T_87241_row5_col0, #T_87241_row5_col5, #T_87241_row5_col6, #T_87241_row5_col7, #T_87241_row5_col8, #T_87241_row5_col9, #T_87241_row5_col15, #T_87241_row5_col16, #T_87241_row5_col17, #T_87241_row6_col0, #T_87241_row6_col1, #T_87241_row6_col2, #T_87241_row6_col3, #T_87241_row6_col4, #T_87241_row6_col5, #T_87241_row6_col6, #T_87241_row6_col7, #T_87241_row6_col8, #T_87241_row6_col9, #T_87241_row6_col14, #T_87241_row6_col15, #T_87241_row6_col16, #T_87241_row6_col17, #T_87241_row7_col0, #T_87241_row7_col1, #T_87241_row7_col2, #T_87241_row7_col3, #T_87241_row7_col4, #T_87241_row7_col5, #T_87241_row7_col6, #T_87241_row7_col13, #T_87241_row7_col14, #T_87241_row7_col15, #T_87241_row7_col16, #T_87241_row7_col17, #T_87241_row8_col0, #T_87241_row8_col1, #T_87241_row8_col2, #T_87241_row8_col3, #T_87241_row8_col4, #T_87241_row8_col13, #T_87241_row8_col14, #T_87241_row8_col15, #T_87241_row8_col16, #T_87241_row8_col17, #T_87241_row9_col0, #T_87241_row9_col1, #T_87241_row9_col2, #T_87241_row9_col3, #T_87241_row9_col4, #T_87241_row9_col16, #T_87241_row9_col17, #T_87241_row10_col0, #T_87241_row10_col1, #T_87241_row10_col2, #T_87241_row10_col3, #T_87241_row10_col4, #T_87241_row10_col5, #T_87241_row10_col6, #T_87241_row10_col17 {\n",
       "  font-size: 6pt;\n",
       "  background-color: #ffffff;\n",
       "  color: #000000;\n",
       "}\n",
       "#T_87241_row1_col5 {\n",
       "  font-size: 6pt;\n",
       "  background-color: #efefef;\n",
       "  color: #000000;\n",
       "}\n",
       "#T_87241_row1_col6, #T_87241_row1_col13 {\n",
       "  font-size: 6pt;\n",
       "  background-color: #7c7c7c;\n",
       "  color: #f1f1f1;\n",
       "}\n",
       "#T_87241_row1_col7 {\n",
       "  font-size: 6pt;\n",
       "  background-color: #4a4a4a;\n",
       "  color: #f1f1f1;\n",
       "}\n",
       "#T_87241_row1_col8, #T_87241_row1_col9, #T_87241_row1_col10, #T_87241_row2_col5, #T_87241_row2_col6, #T_87241_row2_col7, #T_87241_row2_col11, #T_87241_row2_col12, #T_87241_row2_col13, #T_87241_row3_col4, #T_87241_row3_col12, #T_87241_row3_col13, #T_87241_row4_col1, #T_87241_row4_col2, #T_87241_row4_col3, #T_87241_row4_col12, #T_87241_row4_col13, #T_87241_row5_col12, #T_87241_row6_col11, #T_87241_row9_col11, #T_87241_row10_col11, #T_87241_row10_col12, #T_87241_row10_col13, #T_87241_row10_col14, #T_87241_row10_col15, #T_87241_row10_col16 {\n",
       "  font-size: 6pt;\n",
       "  background-color: #000000;\n",
       "  color: #f1f1f1;\n",
       "}\n",
       "#T_87241_row1_col11 {\n",
       "  font-size: 6pt;\n",
       "  background-color: #606060;\n",
       "  color: #f1f1f1;\n",
       "}\n",
       "#T_87241_row1_col12 {\n",
       "  font-size: 6pt;\n",
       "  background-color: #4d4d4d;\n",
       "  color: #f1f1f1;\n",
       "}\n",
       "#T_87241_row1_col14 {\n",
       "  font-size: 6pt;\n",
       "  background-color: #bbbbbb;\n",
       "  color: #000000;\n",
       "}\n",
       "#T_87241_row2_col3 {\n",
       "  font-size: 6pt;\n",
       "  background-color: #e4e4e4;\n",
       "  color: #000000;\n",
       "}\n",
       "#T_87241_row2_col4, #T_87241_row8_col6 {\n",
       "  font-size: 6pt;\n",
       "  background-color: #6b6b6b;\n",
       "  color: #f1f1f1;\n",
       "}\n",
       "#T_87241_row2_col8, #T_87241_row2_col14, #T_87241_row3_col14 {\n",
       "  font-size: 6pt;\n",
       "  background-color: #171717;\n",
       "  color: #f1f1f1;\n",
       "}\n",
       "#T_87241_row2_col9, #T_87241_row3_col11 {\n",
       "  font-size: 6pt;\n",
       "  background-color: #4b4b4b;\n",
       "  color: #f1f1f1;\n",
       "}\n",
       "#T_87241_row2_col10, #T_87241_row7_col10, #T_87241_row8_col8, #T_87241_row8_col10, #T_87241_row9_col8, #T_87241_row9_col10 {\n",
       "  font-size: 6pt;\n",
       "  background-color: #010101;\n",
       "  color: #f1f1f1;\n",
       "}\n",
       "#T_87241_row3_col1 {\n",
       "  font-size: 6pt;\n",
       "  background-color: #272727;\n",
       "  color: #f1f1f1;\n",
       "}\n",
       "#T_87241_row3_col2 {\n",
       "  font-size: 6pt;\n",
       "  background-color: #0a0a0a;\n",
       "  color: #f1f1f1;\n",
       "}\n",
       "#T_87241_row3_col3 {\n",
       "  font-size: 6pt;\n",
       "  background-color: #050505;\n",
       "  color: #f1f1f1;\n",
       "}\n",
       "#T_87241_row3_col5 {\n",
       "  font-size: 6pt;\n",
       "  background-color: #333333;\n",
       "  color: #f1f1f1;\n",
       "}\n",
       "#T_87241_row3_col6 {\n",
       "  font-size: 6pt;\n",
       "  background-color: #e6e6e6;\n",
       "  color: #000000;\n",
       "}\n",
       "#T_87241_row3_col7, #T_87241_row3_col10 {\n",
       "  font-size: 6pt;\n",
       "  background-color: #fafafa;\n",
       "  color: #000000;\n",
       "}\n",
       "#T_87241_row3_col8 {\n",
       "  font-size: 6pt;\n",
       "  background-color: #fbfbfb;\n",
       "  color: #000000;\n",
       "}\n",
       "#T_87241_row3_col9 {\n",
       "  font-size: 6pt;\n",
       "  background-color: #fdfdfd;\n",
       "  color: #000000;\n",
       "}\n",
       "#T_87241_row4_col4 {\n",
       "  font-size: 6pt;\n",
       "  background-color: #1b1b1b;\n",
       "  color: #f1f1f1;\n",
       "}\n",
       "#T_87241_row4_col5 {\n",
       "  font-size: 6pt;\n",
       "  background-color: #e0e0e0;\n",
       "  color: #000000;\n",
       "}\n",
       "#T_87241_row4_col11 {\n",
       "  font-size: 6pt;\n",
       "  background-color: #4e4e4e;\n",
       "  color: #f1f1f1;\n",
       "}\n",
       "#T_87241_row4_col14 {\n",
       "  font-size: 6pt;\n",
       "  background-color: #767676;\n",
       "  color: #f1f1f1;\n",
       "}\n",
       "#T_87241_row5_col1 {\n",
       "  font-size: 6pt;\n",
       "  background-color: #fcfcfc;\n",
       "  color: #000000;\n",
       "}\n",
       "#T_87241_row5_col2, #T_87241_row5_col3 {\n",
       "  font-size: 6pt;\n",
       "  background-color: #f6f6f6;\n",
       "  color: #000000;\n",
       "}\n",
       "#T_87241_row5_col4, #T_87241_row7_col7 {\n",
       "  font-size: 6pt;\n",
       "  background-color: #f8f8f8;\n",
       "  color: #000000;\n",
       "}\n",
       "#T_87241_row5_col10, #T_87241_row10_col7 {\n",
       "  font-size: 6pt;\n",
       "  background-color: #e8e8e8;\n",
       "  color: #000000;\n",
       "}\n",
       "#T_87241_row5_col11 {\n",
       "  font-size: 6pt;\n",
       "  background-color: #222222;\n",
       "  color: #f1f1f1;\n",
       "}\n",
       "#T_87241_row5_col13, #T_87241_row6_col12 {\n",
       "  font-size: 6pt;\n",
       "  background-color: #090909;\n",
       "  color: #f1f1f1;\n",
       "}\n",
       "#T_87241_row5_col14 {\n",
       "  font-size: 6pt;\n",
       "  background-color: #d0d0d0;\n",
       "  color: #000000;\n",
       "}\n",
       "#T_87241_row6_col10, #T_87241_row7_col11, #T_87241_row9_col6 {\n",
       "  font-size: 6pt;\n",
       "  background-color: #060606;\n",
       "  color: #f1f1f1;\n",
       "}\n",
       "#T_87241_row6_col13 {\n",
       "  font-size: 6pt;\n",
       "  background-color: #979797;\n",
       "  color: #f1f1f1;\n",
       "}\n",
       "#T_87241_row7_col8 {\n",
       "  font-size: 6pt;\n",
       "  background-color: #b6b6b6;\n",
       "  color: #000000;\n",
       "}\n",
       "#T_87241_row7_col9 {\n",
       "  font-size: 6pt;\n",
       "  background-color: #252525;\n",
       "  color: #f1f1f1;\n",
       "}\n",
       "#T_87241_row7_col12 {\n",
       "  font-size: 6pt;\n",
       "  background-color: #999999;\n",
       "  color: #f1f1f1;\n",
       "}\n",
       "#T_87241_row8_col5 {\n",
       "  font-size: 6pt;\n",
       "  background-color: #f9f9f9;\n",
       "  color: #000000;\n",
       "}\n",
       "#T_87241_row8_col7 {\n",
       "  font-size: 6pt;\n",
       "  background-color: #101010;\n",
       "  color: #f1f1f1;\n",
       "}\n",
       "#T_87241_row8_col9, #T_87241_row9_col9 {\n",
       "  font-size: 6pt;\n",
       "  background-color: #020202;\n",
       "  color: #f1f1f1;\n",
       "}\n",
       "#T_87241_row8_col11 {\n",
       "  font-size: 6pt;\n",
       "  background-color: #545454;\n",
       "  color: #f1f1f1;\n",
       "}\n",
       "#T_87241_row8_col12 {\n",
       "  font-size: 6pt;\n",
       "  background-color: #f1f1f1;\n",
       "  color: #000000;\n",
       "}\n",
       "#T_87241_row9_col5 {\n",
       "  font-size: 6pt;\n",
       "  background-color: #f7f7f7;\n",
       "  color: #000000;\n",
       "}\n",
       "#T_87241_row9_col7 {\n",
       "  font-size: 6pt;\n",
       "  background-color: #030303;\n",
       "  color: #f1f1f1;\n",
       "}\n",
       "#T_87241_row9_col12 {\n",
       "  font-size: 6pt;\n",
       "  background-color: #181818;\n",
       "  color: #f1f1f1;\n",
       "}\n",
       "#T_87241_row9_col13 {\n",
       "  font-size: 6pt;\n",
       "  background-color: #303030;\n",
       "  color: #f1f1f1;\n",
       "}\n",
       "#T_87241_row9_col14 {\n",
       "  font-size: 6pt;\n",
       "  background-color: #a9a9a9;\n",
       "  color: #f1f1f1;\n",
       "}\n",
       "#T_87241_row9_col15 {\n",
       "  font-size: 6pt;\n",
       "  background-color: #fefefe;\n",
       "  color: #000000;\n",
       "}\n",
       "#T_87241_row10_col8, #T_87241_row10_col9 {\n",
       "  font-size: 6pt;\n",
       "  background-color: #bababa;\n",
       "  color: #000000;\n",
       "}\n",
       "#T_87241_row10_col10 {\n",
       "  font-size: 6pt;\n",
       "  background-color: #393939;\n",
       "  color: #f1f1f1;\n",
       "}\n",
       "</style>\n",
       "<table id=\"T_87241\">\n",
       "  <thead>\n",
       "    <tr>\n",
       "      <th class=\"blank level0\" >&nbsp;</th>\n",
       "      <th id=\"T_87241_level0_col0\" class=\"col_heading level0 col0\" >0</th>\n",
       "      <th id=\"T_87241_level0_col1\" class=\"col_heading level0 col1\" >1</th>\n",
       "      <th id=\"T_87241_level0_col2\" class=\"col_heading level0 col2\" >2</th>\n",
       "      <th id=\"T_87241_level0_col3\" class=\"col_heading level0 col3\" >3</th>\n",
       "      <th id=\"T_87241_level0_col4\" class=\"col_heading level0 col4\" >4</th>\n",
       "      <th id=\"T_87241_level0_col5\" class=\"col_heading level0 col5\" >5</th>\n",
       "      <th id=\"T_87241_level0_col6\" class=\"col_heading level0 col6\" >6</th>\n",
       "      <th id=\"T_87241_level0_col7\" class=\"col_heading level0 col7\" >7</th>\n",
       "      <th id=\"T_87241_level0_col8\" class=\"col_heading level0 col8\" >8</th>\n",
       "      <th id=\"T_87241_level0_col9\" class=\"col_heading level0 col9\" >9</th>\n",
       "      <th id=\"T_87241_level0_col10\" class=\"col_heading level0 col10\" >10</th>\n",
       "      <th id=\"T_87241_level0_col11\" class=\"col_heading level0 col11\" >11</th>\n",
       "      <th id=\"T_87241_level0_col12\" class=\"col_heading level0 col12\" >12</th>\n",
       "      <th id=\"T_87241_level0_col13\" class=\"col_heading level0 col13\" >13</th>\n",
       "      <th id=\"T_87241_level0_col14\" class=\"col_heading level0 col14\" >14</th>\n",
       "      <th id=\"T_87241_level0_col15\" class=\"col_heading level0 col15\" >15</th>\n",
       "      <th id=\"T_87241_level0_col16\" class=\"col_heading level0 col16\" >16</th>\n",
       "      <th id=\"T_87241_level0_col17\" class=\"col_heading level0 col17\" >17</th>\n",
       "    </tr>\n",
       "  </thead>\n",
       "  <tbody>\n",
       "    <tr>\n",
       "      <th id=\"T_87241_level0_row0\" class=\"row_heading level0 row0\" >0</th>\n",
       "      <td id=\"T_87241_row0_col0\" class=\"data row0 col0\" >0</td>\n",
       "      <td id=\"T_87241_row0_col1\" class=\"data row0 col1\" >0</td>\n",
       "      <td id=\"T_87241_row0_col2\" class=\"data row0 col2\" >0</td>\n",
       "      <td id=\"T_87241_row0_col3\" class=\"data row0 col3\" >0</td>\n",
       "      <td id=\"T_87241_row0_col4\" class=\"data row0 col4\" >0</td>\n",
       "      <td id=\"T_87241_row0_col5\" class=\"data row0 col5\" >0</td>\n",
       "      <td id=\"T_87241_row0_col6\" class=\"data row0 col6\" >0</td>\n",
       "      <td id=\"T_87241_row0_col7\" class=\"data row0 col7\" >0</td>\n",
       "      <td id=\"T_87241_row0_col8\" class=\"data row0 col8\" >0</td>\n",
       "      <td id=\"T_87241_row0_col9\" class=\"data row0 col9\" >0</td>\n",
       "      <td id=\"T_87241_row0_col10\" class=\"data row0 col10\" >0</td>\n",
       "      <td id=\"T_87241_row0_col11\" class=\"data row0 col11\" >0</td>\n",
       "      <td id=\"T_87241_row0_col12\" class=\"data row0 col12\" >0</td>\n",
       "      <td id=\"T_87241_row0_col13\" class=\"data row0 col13\" >0</td>\n",
       "      <td id=\"T_87241_row0_col14\" class=\"data row0 col14\" >0</td>\n",
       "      <td id=\"T_87241_row0_col15\" class=\"data row0 col15\" >0</td>\n",
       "      <td id=\"T_87241_row0_col16\" class=\"data row0 col16\" >0</td>\n",
       "      <td id=\"T_87241_row0_col17\" class=\"data row0 col17\" >0</td>\n",
       "    </tr>\n",
       "    <tr>\n",
       "      <th id=\"T_87241_level0_row1\" class=\"row_heading level0 row1\" >1</th>\n",
       "      <td id=\"T_87241_row1_col0\" class=\"data row1 col0\" >0</td>\n",
       "      <td id=\"T_87241_row1_col1\" class=\"data row1 col1\" >0</td>\n",
       "      <td id=\"T_87241_row1_col2\" class=\"data row1 col2\" >0</td>\n",
       "      <td id=\"T_87241_row1_col3\" class=\"data row1 col3\" >0</td>\n",
       "      <td id=\"T_87241_row1_col4\" class=\"data row1 col4\" >0</td>\n",
       "      <td id=\"T_87241_row1_col5\" class=\"data row1 col5\" >29</td>\n",
       "      <td id=\"T_87241_row1_col6\" class=\"data row1 col6\" >150</td>\n",
       "      <td id=\"T_87241_row1_col7\" class=\"data row1 col7\" >195</td>\n",
       "      <td id=\"T_87241_row1_col8\" class=\"data row1 col8\" >254</td>\n",
       "      <td id=\"T_87241_row1_col9\" class=\"data row1 col9\" >255</td>\n",
       "      <td id=\"T_87241_row1_col10\" class=\"data row1 col10\" >254</td>\n",
       "      <td id=\"T_87241_row1_col11\" class=\"data row1 col11\" >176</td>\n",
       "      <td id=\"T_87241_row1_col12\" class=\"data row1 col12\" >193</td>\n",
       "      <td id=\"T_87241_row1_col13\" class=\"data row1 col13\" >150</td>\n",
       "      <td id=\"T_87241_row1_col14\" class=\"data row1 col14\" >96</td>\n",
       "      <td id=\"T_87241_row1_col15\" class=\"data row1 col15\" >0</td>\n",
       "      <td id=\"T_87241_row1_col16\" class=\"data row1 col16\" >0</td>\n",
       "      <td id=\"T_87241_row1_col17\" class=\"data row1 col17\" >0</td>\n",
       "    </tr>\n",
       "    <tr>\n",
       "      <th id=\"T_87241_level0_row2\" class=\"row_heading level0 row2\" >2</th>\n",
       "      <td id=\"T_87241_row2_col0\" class=\"data row2 col0\" >0</td>\n",
       "      <td id=\"T_87241_row2_col1\" class=\"data row2 col1\" >0</td>\n",
       "      <td id=\"T_87241_row2_col2\" class=\"data row2 col2\" >0</td>\n",
       "      <td id=\"T_87241_row2_col3\" class=\"data row2 col3\" >48</td>\n",
       "      <td id=\"T_87241_row2_col4\" class=\"data row2 col4\" >166</td>\n",
       "      <td id=\"T_87241_row2_col5\" class=\"data row2 col5\" >224</td>\n",
       "      <td id=\"T_87241_row2_col6\" class=\"data row2 col6\" >253</td>\n",
       "      <td id=\"T_87241_row2_col7\" class=\"data row2 col7\" >253</td>\n",
       "      <td id=\"T_87241_row2_col8\" class=\"data row2 col8\" >234</td>\n",
       "      <td id=\"T_87241_row2_col9\" class=\"data row2 col9\" >196</td>\n",
       "      <td id=\"T_87241_row2_col10\" class=\"data row2 col10\" >253</td>\n",
       "      <td id=\"T_87241_row2_col11\" class=\"data row2 col11\" >253</td>\n",
       "      <td id=\"T_87241_row2_col12\" class=\"data row2 col12\" >253</td>\n",
       "      <td id=\"T_87241_row2_col13\" class=\"data row2 col13\" >253</td>\n",
       "      <td id=\"T_87241_row2_col14\" class=\"data row2 col14\" >233</td>\n",
       "      <td id=\"T_87241_row2_col15\" class=\"data row2 col15\" >0</td>\n",
       "      <td id=\"T_87241_row2_col16\" class=\"data row2 col16\" >0</td>\n",
       "      <td id=\"T_87241_row2_col17\" class=\"data row2 col17\" >0</td>\n",
       "    </tr>\n",
       "    <tr>\n",
       "      <th id=\"T_87241_level0_row3\" class=\"row_heading level0 row3\" >3</th>\n",
       "      <td id=\"T_87241_row3_col0\" class=\"data row3 col0\" >0</td>\n",
       "      <td id=\"T_87241_row3_col1\" class=\"data row3 col1\" >93</td>\n",
       "      <td id=\"T_87241_row3_col2\" class=\"data row3 col2\" >244</td>\n",
       "      <td id=\"T_87241_row3_col3\" class=\"data row3 col3\" >249</td>\n",
       "      <td id=\"T_87241_row3_col4\" class=\"data row3 col4\" >253</td>\n",
       "      <td id=\"T_87241_row3_col5\" class=\"data row3 col5\" >187</td>\n",
       "      <td id=\"T_87241_row3_col6\" class=\"data row3 col6\" >46</td>\n",
       "      <td id=\"T_87241_row3_col7\" class=\"data row3 col7\" >10</td>\n",
       "      <td id=\"T_87241_row3_col8\" class=\"data row3 col8\" >8</td>\n",
       "      <td id=\"T_87241_row3_col9\" class=\"data row3 col9\" >4</td>\n",
       "      <td id=\"T_87241_row3_col10\" class=\"data row3 col10\" >10</td>\n",
       "      <td id=\"T_87241_row3_col11\" class=\"data row3 col11\" >194</td>\n",
       "      <td id=\"T_87241_row3_col12\" class=\"data row3 col12\" >253</td>\n",
       "      <td id=\"T_87241_row3_col13\" class=\"data row3 col13\" >253</td>\n",
       "      <td id=\"T_87241_row3_col14\" class=\"data row3 col14\" >233</td>\n",
       "      <td id=\"T_87241_row3_col15\" class=\"data row3 col15\" >0</td>\n",
       "      <td id=\"T_87241_row3_col16\" class=\"data row3 col16\" >0</td>\n",
       "      <td id=\"T_87241_row3_col17\" class=\"data row3 col17\" >0</td>\n",
       "    </tr>\n",
       "    <tr>\n",
       "      <th id=\"T_87241_level0_row4\" class=\"row_heading level0 row4\" >4</th>\n",
       "      <td id=\"T_87241_row4_col0\" class=\"data row4 col0\" >0</td>\n",
       "      <td id=\"T_87241_row4_col1\" class=\"data row4 col1\" >107</td>\n",
       "      <td id=\"T_87241_row4_col2\" class=\"data row4 col2\" >253</td>\n",
       "      <td id=\"T_87241_row4_col3\" class=\"data row4 col3\" >253</td>\n",
       "      <td id=\"T_87241_row4_col4\" class=\"data row4 col4\" >230</td>\n",
       "      <td id=\"T_87241_row4_col5\" class=\"data row4 col5\" >48</td>\n",
       "      <td id=\"T_87241_row4_col6\" class=\"data row4 col6\" >0</td>\n",
       "      <td id=\"T_87241_row4_col7\" class=\"data row4 col7\" >0</td>\n",
       "      <td id=\"T_87241_row4_col8\" class=\"data row4 col8\" >0</td>\n",
       "      <td id=\"T_87241_row4_col9\" class=\"data row4 col9\" >0</td>\n",
       "      <td id=\"T_87241_row4_col10\" class=\"data row4 col10\" >0</td>\n",
       "      <td id=\"T_87241_row4_col11\" class=\"data row4 col11\" >192</td>\n",
       "      <td id=\"T_87241_row4_col12\" class=\"data row4 col12\" >253</td>\n",
       "      <td id=\"T_87241_row4_col13\" class=\"data row4 col13\" >253</td>\n",
       "      <td id=\"T_87241_row4_col14\" class=\"data row4 col14\" >156</td>\n",
       "      <td id=\"T_87241_row4_col15\" class=\"data row4 col15\" >0</td>\n",
       "      <td id=\"T_87241_row4_col16\" class=\"data row4 col16\" >0</td>\n",
       "      <td id=\"T_87241_row4_col17\" class=\"data row4 col17\" >0</td>\n",
       "    </tr>\n",
       "    <tr>\n",
       "      <th id=\"T_87241_level0_row5\" class=\"row_heading level0 row5\" >5</th>\n",
       "      <td id=\"T_87241_row5_col0\" class=\"data row5 col0\" >0</td>\n",
       "      <td id=\"T_87241_row5_col1\" class=\"data row5 col1\" >3</td>\n",
       "      <td id=\"T_87241_row5_col2\" class=\"data row5 col2\" >20</td>\n",
       "      <td id=\"T_87241_row5_col3\" class=\"data row5 col3\" >20</td>\n",
       "      <td id=\"T_87241_row5_col4\" class=\"data row5 col4\" >15</td>\n",
       "      <td id=\"T_87241_row5_col5\" class=\"data row5 col5\" >0</td>\n",
       "      <td id=\"T_87241_row5_col6\" class=\"data row5 col6\" >0</td>\n",
       "      <td id=\"T_87241_row5_col7\" class=\"data row5 col7\" >0</td>\n",
       "      <td id=\"T_87241_row5_col8\" class=\"data row5 col8\" >0</td>\n",
       "      <td id=\"T_87241_row5_col9\" class=\"data row5 col9\" >0</td>\n",
       "      <td id=\"T_87241_row5_col10\" class=\"data row5 col10\" >43</td>\n",
       "      <td id=\"T_87241_row5_col11\" class=\"data row5 col11\" >224</td>\n",
       "      <td id=\"T_87241_row5_col12\" class=\"data row5 col12\" >253</td>\n",
       "      <td id=\"T_87241_row5_col13\" class=\"data row5 col13\" >245</td>\n",
       "      <td id=\"T_87241_row5_col14\" class=\"data row5 col14\" >74</td>\n",
       "      <td id=\"T_87241_row5_col15\" class=\"data row5 col15\" >0</td>\n",
       "      <td id=\"T_87241_row5_col16\" class=\"data row5 col16\" >0</td>\n",
       "      <td id=\"T_87241_row5_col17\" class=\"data row5 col17\" >0</td>\n",
       "    </tr>\n",
       "    <tr>\n",
       "      <th id=\"T_87241_level0_row6\" class=\"row_heading level0 row6\" >6</th>\n",
       "      <td id=\"T_87241_row6_col0\" class=\"data row6 col0\" >0</td>\n",
       "      <td id=\"T_87241_row6_col1\" class=\"data row6 col1\" >0</td>\n",
       "      <td id=\"T_87241_row6_col2\" class=\"data row6 col2\" >0</td>\n",
       "      <td id=\"T_87241_row6_col3\" class=\"data row6 col3\" >0</td>\n",
       "      <td id=\"T_87241_row6_col4\" class=\"data row6 col4\" >0</td>\n",
       "      <td id=\"T_87241_row6_col5\" class=\"data row6 col5\" >0</td>\n",
       "      <td id=\"T_87241_row6_col6\" class=\"data row6 col6\" >0</td>\n",
       "      <td id=\"T_87241_row6_col7\" class=\"data row6 col7\" >0</td>\n",
       "      <td id=\"T_87241_row6_col8\" class=\"data row6 col8\" >0</td>\n",
       "      <td id=\"T_87241_row6_col9\" class=\"data row6 col9\" >0</td>\n",
       "      <td id=\"T_87241_row6_col10\" class=\"data row6 col10\" >249</td>\n",
       "      <td id=\"T_87241_row6_col11\" class=\"data row6 col11\" >253</td>\n",
       "      <td id=\"T_87241_row6_col12\" class=\"data row6 col12\" >245</td>\n",
       "      <td id=\"T_87241_row6_col13\" class=\"data row6 col13\" >126</td>\n",
       "      <td id=\"T_87241_row6_col14\" class=\"data row6 col14\" >0</td>\n",
       "      <td id=\"T_87241_row6_col15\" class=\"data row6 col15\" >0</td>\n",
       "      <td id=\"T_87241_row6_col16\" class=\"data row6 col16\" >0</td>\n",
       "      <td id=\"T_87241_row6_col17\" class=\"data row6 col17\" >0</td>\n",
       "    </tr>\n",
       "    <tr>\n",
       "      <th id=\"T_87241_level0_row7\" class=\"row_heading level0 row7\" >7</th>\n",
       "      <td id=\"T_87241_row7_col0\" class=\"data row7 col0\" >0</td>\n",
       "      <td id=\"T_87241_row7_col1\" class=\"data row7 col1\" >0</td>\n",
       "      <td id=\"T_87241_row7_col2\" class=\"data row7 col2\" >0</td>\n",
       "      <td id=\"T_87241_row7_col3\" class=\"data row7 col3\" >0</td>\n",
       "      <td id=\"T_87241_row7_col4\" class=\"data row7 col4\" >0</td>\n",
       "      <td id=\"T_87241_row7_col5\" class=\"data row7 col5\" >0</td>\n",
       "      <td id=\"T_87241_row7_col6\" class=\"data row7 col6\" >0</td>\n",
       "      <td id=\"T_87241_row7_col7\" class=\"data row7 col7\" >14</td>\n",
       "      <td id=\"T_87241_row7_col8\" class=\"data row7 col8\" >101</td>\n",
       "      <td id=\"T_87241_row7_col9\" class=\"data row7 col9\" >223</td>\n",
       "      <td id=\"T_87241_row7_col10\" class=\"data row7 col10\" >253</td>\n",
       "      <td id=\"T_87241_row7_col11\" class=\"data row7 col11\" >248</td>\n",
       "      <td id=\"T_87241_row7_col12\" class=\"data row7 col12\" >124</td>\n",
       "      <td id=\"T_87241_row7_col13\" class=\"data row7 col13\" >0</td>\n",
       "      <td id=\"T_87241_row7_col14\" class=\"data row7 col14\" >0</td>\n",
       "      <td id=\"T_87241_row7_col15\" class=\"data row7 col15\" >0</td>\n",
       "      <td id=\"T_87241_row7_col16\" class=\"data row7 col16\" >0</td>\n",
       "      <td id=\"T_87241_row7_col17\" class=\"data row7 col17\" >0</td>\n",
       "    </tr>\n",
       "    <tr>\n",
       "      <th id=\"T_87241_level0_row8\" class=\"row_heading level0 row8\" >8</th>\n",
       "      <td id=\"T_87241_row8_col0\" class=\"data row8 col0\" >0</td>\n",
       "      <td id=\"T_87241_row8_col1\" class=\"data row8 col1\" >0</td>\n",
       "      <td id=\"T_87241_row8_col2\" class=\"data row8 col2\" >0</td>\n",
       "      <td id=\"T_87241_row8_col3\" class=\"data row8 col3\" >0</td>\n",
       "      <td id=\"T_87241_row8_col4\" class=\"data row8 col4\" >0</td>\n",
       "      <td id=\"T_87241_row8_col5\" class=\"data row8 col5\" >11</td>\n",
       "      <td id=\"T_87241_row8_col6\" class=\"data row8 col6\" >166</td>\n",
       "      <td id=\"T_87241_row8_col7\" class=\"data row8 col7\" >239</td>\n",
       "      <td id=\"T_87241_row8_col8\" class=\"data row8 col8\" >253</td>\n",
       "      <td id=\"T_87241_row8_col9\" class=\"data row8 col9\" >253</td>\n",
       "      <td id=\"T_87241_row8_col10\" class=\"data row8 col10\" >253</td>\n",
       "      <td id=\"T_87241_row8_col11\" class=\"data row8 col11\" >187</td>\n",
       "      <td id=\"T_87241_row8_col12\" class=\"data row8 col12\" >30</td>\n",
       "      <td id=\"T_87241_row8_col13\" class=\"data row8 col13\" >0</td>\n",
       "      <td id=\"T_87241_row8_col14\" class=\"data row8 col14\" >0</td>\n",
       "      <td id=\"T_87241_row8_col15\" class=\"data row8 col15\" >0</td>\n",
       "      <td id=\"T_87241_row8_col16\" class=\"data row8 col16\" >0</td>\n",
       "      <td id=\"T_87241_row8_col17\" class=\"data row8 col17\" >0</td>\n",
       "    </tr>\n",
       "    <tr>\n",
       "      <th id=\"T_87241_level0_row9\" class=\"row_heading level0 row9\" >9</th>\n",
       "      <td id=\"T_87241_row9_col0\" class=\"data row9 col0\" >0</td>\n",
       "      <td id=\"T_87241_row9_col1\" class=\"data row9 col1\" >0</td>\n",
       "      <td id=\"T_87241_row9_col2\" class=\"data row9 col2\" >0</td>\n",
       "      <td id=\"T_87241_row9_col3\" class=\"data row9 col3\" >0</td>\n",
       "      <td id=\"T_87241_row9_col4\" class=\"data row9 col4\" >0</td>\n",
       "      <td id=\"T_87241_row9_col5\" class=\"data row9 col5\" >16</td>\n",
       "      <td id=\"T_87241_row9_col6\" class=\"data row9 col6\" >248</td>\n",
       "      <td id=\"T_87241_row9_col7\" class=\"data row9 col7\" >250</td>\n",
       "      <td id=\"T_87241_row9_col8\" class=\"data row9 col8\" >253</td>\n",
       "      <td id=\"T_87241_row9_col9\" class=\"data row9 col9\" >253</td>\n",
       "      <td id=\"T_87241_row9_col10\" class=\"data row9 col10\" >253</td>\n",
       "      <td id=\"T_87241_row9_col11\" class=\"data row9 col11\" >253</td>\n",
       "      <td id=\"T_87241_row9_col12\" class=\"data row9 col12\" >232</td>\n",
       "      <td id=\"T_87241_row9_col13\" class=\"data row9 col13\" >213</td>\n",
       "      <td id=\"T_87241_row9_col14\" class=\"data row9 col14\" >111</td>\n",
       "      <td id=\"T_87241_row9_col15\" class=\"data row9 col15\" >2</td>\n",
       "      <td id=\"T_87241_row9_col16\" class=\"data row9 col16\" >0</td>\n",
       "      <td id=\"T_87241_row9_col17\" class=\"data row9 col17\" >0</td>\n",
       "    </tr>\n",
       "    <tr>\n",
       "      <th id=\"T_87241_level0_row10\" class=\"row_heading level0 row10\" >10</th>\n",
       "      <td id=\"T_87241_row10_col0\" class=\"data row10 col0\" >0</td>\n",
       "      <td id=\"T_87241_row10_col1\" class=\"data row10 col1\" >0</td>\n",
       "      <td id=\"T_87241_row10_col2\" class=\"data row10 col2\" >0</td>\n",
       "      <td id=\"T_87241_row10_col3\" class=\"data row10 col3\" >0</td>\n",
       "      <td id=\"T_87241_row10_col4\" class=\"data row10 col4\" >0</td>\n",
       "      <td id=\"T_87241_row10_col5\" class=\"data row10 col5\" >0</td>\n",
       "      <td id=\"T_87241_row10_col6\" class=\"data row10 col6\" >0</td>\n",
       "      <td id=\"T_87241_row10_col7\" class=\"data row10 col7\" >43</td>\n",
       "      <td id=\"T_87241_row10_col8\" class=\"data row10 col8\" >98</td>\n",
       "      <td id=\"T_87241_row10_col9\" class=\"data row10 col9\" >98</td>\n",
       "      <td id=\"T_87241_row10_col10\" class=\"data row10 col10\" >208</td>\n",
       "      <td id=\"T_87241_row10_col11\" class=\"data row10 col11\" >253</td>\n",
       "      <td id=\"T_87241_row10_col12\" class=\"data row10 col12\" >253</td>\n",
       "      <td id=\"T_87241_row10_col13\" class=\"data row10 col13\" >253</td>\n",
       "      <td id=\"T_87241_row10_col14\" class=\"data row10 col14\" >253</td>\n",
       "      <td id=\"T_87241_row10_col15\" class=\"data row10 col15\" >187</td>\n",
       "      <td id=\"T_87241_row10_col16\" class=\"data row10 col16\" >22</td>\n",
       "      <td id=\"T_87241_row10_col17\" class=\"data row10 col17\" >0</td>\n",
       "    </tr>\n",
       "  </tbody>\n",
       "</table>\n"
      ],
      "text/plain": [
       "<pandas.io.formats.style.Styler at 0x7f1886422a30>"
      ]
     },
     "execution_count": 15,
     "metadata": {},
     "output_type": "execute_result"
    }
   ],
   "source": [
    "im3_t = tensor(im3)\n",
    "df = pd.DataFrame(im3_t[4:15, 4:22])\n",
    "df.style.set_properties(**{'font-size':'6pt'}).background_gradient('Greys')"
   ]
  },
  {
   "cell_type": "markdown",
   "id": "249a0c21-0857-43fd-a9b2-a28f90bf71bd",
   "metadata": {},
   "source": [
    "## Creating a model that detects a 3"
   ]
  },
  {
   "cell_type": "markdown",
   "id": "eb26a927-a487-415f-80c8-1181e2811ed5",
   "metadata": {},
   "source": [
    "#### Pixel Similarity  \n",
    "- Find the average pixel value for every pixel; of the threes and sevens.  \n",
    "- The two group averages define the \"ideal\" 3 and 7.  \n",
    "- Then to classify an image as a digit, we see which of these two ideal digits the image is similar to."
   ]
  },
  {
   "cell_type": "markdown",
   "id": "fad019a9-1daf-4ed6-bfec-36c2a7558fc8",
   "metadata": {},
   "source": [
    "##### Create a baseline model"
   ]
  },
  {
   "cell_type": "markdown",
   "id": "7c4c9865-43f2-47b9-a4f7-a60ee7d8a2ba",
   "metadata": {},
   "source": [
    "First, we need to list all the images of sevens and threes as tensors."
   ]
  },
  {
   "cell_type": "code",
   "execution_count": 16,
   "id": "6bc79803-a11a-491e-8b4a-5c0190932f12",
   "metadata": {},
   "outputs": [
    {
     "data": {
      "text/plain": [
       "(6131, 6265)"
      ]
     },
     "execution_count": 16,
     "metadata": {},
     "output_type": "execute_result"
    }
   ],
   "source": [
    "seven_tensors = [tensor(Image.open(o)) for o in sevens]\n",
    "three_tensors = [tensor(Image.open(o)) for o in threes]\n",
    "len(three_tensors), len(seven_tensors)"
   ]
  },
  {
   "cell_type": "code",
   "execution_count": 17,
   "id": "6211a0fb-0dd0-433a-9c97-fe0a7ddb630c",
   "metadata": {},
   "outputs": [
    {
     "data": {
      "image/png": "[encoded data removed]",
      "text/plain": [
       "<Figure size 72x72 with 1 Axes>"
      ]
     },
     "metadata": {
      "needs_background": "light"
     },
     "output_type": "display_data"
    }
   ],
   "source": [
    "show_image(three_tensors[1]);"
   ]
  },
  {
   "cell_type": "code",
   "execution_count": 18,
   "id": "1bc79914-a863-440f-89b1-7e634e85013a",
   "metadata": {},
   "outputs": [
    {
     "data": {
      "image/png": "[encoded data removed]",
      "text/plain": [
       "<Figure size 72x72 with 1 Axes>"
      ]
     },
     "metadata": {
      "needs_background": "light"
     },
     "output_type": "display_data"
    }
   ],
   "source": [
    "show_image(seven_tensors[1]);"
   ]
  },
  {
   "cell_type": "code",
   "execution_count": 19,
   "id": "fa4be478-aed1-4b7c-917f-cda16dc675ae",
   "metadata": {},
   "outputs": [
    {
     "data": {
      "text/plain": [
       "list"
      ]
     },
     "execution_count": 19,
     "metadata": {},
     "output_type": "execute_result"
    }
   ],
   "source": [
    "type(seven_tensors)"
   ]
  },
  {
   "cell_type": "markdown",
   "id": "a944b347-ff23-4350-8da6-13040d327e05",
   "metadata": {},
   "source": [
    "We now need to get the average of all those 3s and 7s.  \n",
    "First we need to change three_tensors and seven_tensors from lists, which can't easily do mathematical computations."
   ]
  },
  {
   "cell_type": "code",
   "execution_count": 21,
   "id": "66dddd01-1c06-4d5b-a453-f574e8558800",
   "metadata": {},
   "outputs": [
    {
     "data": {
      "text/plain": [
       "torch.Size([6131, 28, 28])"
      ]
     },
     "execution_count": 21,
     "metadata": {},
     "output_type": "execute_result"
    }
   ],
   "source": [
    "stacked_sevens = torch.stack(seven_tensors).float()/255\n",
    "stacked_threes = torch.stack(three_tensors).float()/255\n",
    "stacked_threes.shape"
   ]
  },
  {
   "cell_type": "markdown",
   "id": "d28bb6de-ed9b-4a53-8e04-c3d09882cd98",
   "metadata": {},
   "source": [
    "This stacks up all the 28×28 pixels images on top of each other."
   ]
  },
  {
   "cell_type": "code",
   "execution_count": 22,
   "id": "1da4c958-11c5-4780-ae5f-e65a559eba32",
   "metadata": {},
   "outputs": [
    {
     "data": {
      "text/plain": [
       "3"
      ]
     },
     "execution_count": 22,
     "metadata": {},
     "output_type": "execute_result"
    }
   ],
   "source": [
    "len(stacked_threes.shape)"
   ]
  },
  {
   "cell_type": "markdown",
   "id": "413d3a5d-e49e-4d62-8282-58277b27d288",
   "metadata": {},
   "source": [
    "This gives us a Rank 3 tensor."
   ]
  },
  {
   "cell_type": "markdown",
   "id": "64f2bf09-da9a-4001-a301-d6a807e1b8d0",
   "metadata": {},
   "source": [
    "We can also get it from 'ndim' that stands for number of dimensions."
   ]
  },
  {
   "cell_type": "code",
   "execution_count": 23,
   "id": "bbba3f12-8e9a-4f88-94d1-7108b8775c0b",
   "metadata": {},
   "outputs": [
    {
     "data": {
      "text/plain": [
       "3"
      ]
     },
     "execution_count": 23,
     "metadata": {},
     "output_type": "execute_result"
    }
   ],
   "source": [
    "stacked_threes.ndim"
   ]
  },
  {
   "cell_type": "code",
   "execution_count": null,
   "id": "49810743-a90e-44d2-a8e7-63a7f3d4b899",
   "metadata": {},
   "outputs": [],
   "source": [
    "Getting the mean for 3 and 7:"
   ]
  },
  {
   "cell_type": "code",
   "execution_count": 24,
   "id": "5ac71e13-ddee-42c0-af39-4aa2f9065022",
   "metadata": {},
   "outputs": [
    {
     "data": {
      "image/png": "[encoded data removed]",
      "text/plain": [
       "<Figure size 72x72 with 1 Axes>"
      ]
     },
     "metadata": {
      "needs_background": "light"
     },
     "output_type": "display_data"
    }
   ],
   "source": [
    "mean3 = stacked_threes.mean(0)\n",
    "show_image(mean3);"
   ]
  },
  {
   "cell_type": "code",
   "execution_count": 25,
   "id": "b575b36b-ce90-46b3-ad3b-a1651b6aa4d6",
   "metadata": {},
   "outputs": [
    {
     "data": {
      "image/png": "[encoded data removed]",
      "text/plain": [
       "<Figure size 72x72 with 1 Axes>"
      ]
     },
     "metadata": {
      "needs_background": "light"
     },
     "output_type": "display_data"
    }
   ],
   "source": [
    "mean7 = stacked_sevens.mean(0)\n",
    "show_image(mean7);"
   ]
  },
  {
   "cell_type": "markdown",
   "id": "62c2e16b-d606-4f0c-b0a2-56a19a52c120",
   "metadata": {},
   "source": [
    "This shows us the ideal 3 and 7."
   ]
  },
  {
   "cell_type": "markdown",
   "id": "0e11f3aa-7884-45d5-95eb-6bfbe41066af",
   "metadata": {},
   "source": [
    "Now, let's grab a 3:"
   ]
  },
  {
   "cell_type": "code",
   "execution_count": 26,
   "id": "dc9237ab-7d55-4d9e-b60a-bccc0833a4c8",
   "metadata": {},
   "outputs": [
    {
     "data": {
      "image/png": "[encoded data removed]",
      "text/plain": [
       "<Figure size 72x72 with 1 Axes>"
      ]
     },
     "metadata": {
      "needs_background": "light"
     },
     "output_type": "display_data"
    }
   ],
   "source": [
    "a_3 = stacked_threes[1]\n",
    "show_image(a_3);"
   ]
  },
  {
   "cell_type": "markdown",
   "id": "41608513-fde5-45fa-8a94-7214828dfa2a",
   "metadata": {},
   "source": [
    "We can find if the a_3 is similar to the 'ideal' 3 or 7.  \n",
    "The one that is more similar to, that's the answer."
   ]
  },
  {
   "cell_type": "markdown",
   "id": "a11dc641-d0ab-4c3d-97ae-ce2dc3a56780",
   "metadata": {},
   "source": [
    "This can be achieved by:  \n",
    "1) Finding the absolute values (simply means removing the minus sign), the take the average. This is called the Mean Absolute Difference or L1 norm.  \n",
    "2) Take the square of each difference and the take the mean then find the square root to undo the squaring. This is called Root Mean Squared Error or L2 norm.|"
   ]
  },
  {
   "cell_type": "code",
   "execution_count": 27,
   "id": "39bdc6ef-74db-40cb-85a3-36cd11905d9f",
   "metadata": {},
   "outputs": [
    {
     "data": {
      "text/plain": [
       "(tensor(0.1114), tensor(0.2021))"
      ]
     },
     "execution_count": 27,
     "metadata": {},
     "output_type": "execute_result"
    }
   ],
   "source": [
    "dist_3_abs = (a_3-mean3).abs().mean()\n",
    "dist_3_sqr = ((a_3-mean3)**2).mean().sqrt()\n",
    "dist_3_abs, dist_3_sqr"
   ]
  },
  {
   "cell_type": "code",
   "execution_count": 28,
   "id": "d45cafe3-533a-45a0-a433-dc9eb2446180",
   "metadata": {},
   "outputs": [
    {
     "data": {
      "text/plain": [
       "(tensor(0.1586), tensor(0.3021))"
      ]
     },
     "execution_count": 28,
     "metadata": {},
     "output_type": "execute_result"
    }
   ],
   "source": [
    "dist_7_abs = (a_3-mean7).abs().mean()\n",
    "dist_7_sqr = ((a_3-mean7)**2).mean().sqrt()\n",
    "dist_7_abs, dist_7_sqr"
   ]
  },
  {
   "cell_type": "markdown",
   "id": "2ea8e2b3-b421-4881-810d-d8f8eae9401c",
   "metadata": {},
   "source": [
    "The distance in terms of absolute from mean of 3 is 0.114 and mean of 7 is 0.1586 so its close to the mean of 3 than the mean of 7. Therefore, we can guess that its a 3 based on the mean absolute differences.  \n",
    "This is same for the root mean squared error."
   ]
  },
  {
   "cell_type": "markdown",
   "id": "74ab9aaa-9ce3-4d3a-88a0-3a33929c47cd",
   "metadata": {},
   "source": []
  }
 ],
 "metadata": {
  "kernelspec": {
   "display_name": "Python 3 (ipykernel)",
   "language": "python",
   "name": "python3"
  },
  "language_info": {
   "codemirror_mode": {
    "name": "ipython",
    "version": 3
   },
   "file_extension": ".py",
   "mimetype": "text/x-python",
   "name": "python",
   "nbconvert_exporter": "python",
   "pygments_lexer": "ipython3",
   "version": "3.9.13"
  }
 },
 "nbformat": 4,
 "nbformat_minor": 5
}
