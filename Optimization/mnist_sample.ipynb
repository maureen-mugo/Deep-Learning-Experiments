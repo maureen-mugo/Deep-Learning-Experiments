{
 "cells": [
  {
   "cell_type": "markdown",
   "id": "ab2163e1-f8de-47d7-b18a-468edba83b4a",
   "metadata": {},
   "source": [
    "This project creates a model that classifies handwritten 3s and 7s from the MNIST sample dataset."
   ]
  },
  {
   "cell_type": "code",
   "execution_count": 1,
   "id": "625fc098-c60e-47ac-b1be-405055bfe659",
   "metadata": {},
   "outputs": [],
   "source": [
    "!pip install -Uqq fastai"
   ]
  },
  {
   "cell_type": "code",
   "execution_count": 2,
   "id": "f66977ab-35d7-49ed-a040-f73d75702c4a",
   "metadata": {},
   "outputs": [],
   "source": [
    "from fastai.vision.all import *\n",
    "\n",
    "matplotlib.rc('image', cmap='Greys')"
   ]
  },
  {
   "cell_type": "code",
   "execution_count": 3,
   "id": "3bdfd041-02f2-4c38-b197-ebacfde77b89",
   "metadata": {},
   "outputs": [],
   "source": [
    "path = untar_data(URLs.MNIST_SAMPLE)"
   ]
  },
  {
   "cell_type": "code",
   "execution_count": 4,
   "id": "8e05f12e-6360-4371-922f-2c862be46318",
   "metadata": {},
   "outputs": [],
   "source": [
    "Path.BASE_PATH = path"
   ]
  },
  {
   "cell_type": "code",
   "execution_count": 5,
   "id": "d036c1f8-3af9-4f05-be8a-4c4ba5503a5b",
   "metadata": {},
   "outputs": [
    {
     "data": {
      "text/plain": [
       "Path('.')"
      ]
     },
     "execution_count": 5,
     "metadata": {},
     "output_type": "execute_result"
    }
   ],
   "source": [
    "path"
   ]
  },
  {
   "cell_type": "markdown",
   "id": "d631f5a8-a808-4fbd-aceb-8086c316f272",
   "metadata": {},
   "source": [
    "We check what's in path:"
   ]
  },
  {
   "cell_type": "code",
   "execution_count": 6,
   "id": "6a3779fd-441f-478b-8039-13faf389ca5e",
   "metadata": {},
   "outputs": [
    {
     "data": {
      "text/plain": [
       "(#3) [Path('train'),Path('labels.csv'),Path('valid')]"
      ]
     },
     "execution_count": 6,
     "metadata": {},
     "output_type": "execute_result"
    }
   ],
   "source": [
    "path.ls()"
   ]
  },
  {
   "cell_type": "markdown",
   "id": "c4a03b57-cb2a-450c-aad8-d4172bc235a7",
   "metadata": {},
   "source": [
    "Checking the train folder:"
   ]
  },
  {
   "cell_type": "code",
   "execution_count": 7,
   "id": "7907a442-d636-487c-a773-062ee9f4209a",
   "metadata": {},
   "outputs": [
    {
     "data": {
      "text/plain": [
       "(#2) [Path('train/7'),Path('train/3')]"
      ]
     },
     "execution_count": 7,
     "metadata": {},
     "output_type": "execute_result"
    }
   ],
   "source": [
    "(path/'train').ls()"
   ]
  },
  {
   "cell_type": "markdown",
   "id": "d9ae6897-0806-4a0f-ad72-ab6bec8785a3",
   "metadata": {},
   "source": [
    "We can sort the training data:"
   ]
  },
  {
   "cell_type": "code",
   "execution_count": 8,
   "id": "e3d1ac33-dd8b-4013-99dc-d241a88d4194",
   "metadata": {},
   "outputs": [],
   "source": [
    "threes = (path/'train'/'3').ls().sorted()\n",
    "sevens = (path/'train'/'7').ls().sorted()"
   ]
  },
  {
   "cell_type": "code",
   "execution_count": 9,
   "id": "c05a333d-f224-4983-8ed8-760d16696aa1",
   "metadata": {},
   "outputs": [
    {
     "data": {
      "text/plain": [
       "(#6131) [Path('train/3/10.png'),Path('train/3/10000.png'),Path('train/3/10011.png'),Path('train/3/10031.png'),Path('train/3/10034.png'),Path('train/3/10042.png'),Path('train/3/10052.png'),Path('train/3/1007.png'),Path('train/3/10074.png'),Path('train/3/10091.png')...]"
      ]
     },
     "execution_count": 9,
     "metadata": {},
     "output_type": "execute_result"
    }
   ],
   "source": [
    "threes"
   ]
  },
  {
   "cell_type": "code",
   "execution_count": 10,
   "id": "39b3f772-3158-4470-b4f7-a63c11d469de",
   "metadata": {},
   "outputs": [
    {
     "data": {
      "text/plain": [
       "(#6265) [Path('train/7/10002.png'),Path('train/7/1001.png'),Path('train/7/10014.png'),Path('train/7/10019.png'),Path('train/7/10039.png'),Path('train/7/10046.png'),Path('train/7/10050.png'),Path('train/7/10063.png'),Path('train/7/10077.png'),Path('train/7/10086.png')...]"
      ]
     },
     "execution_count": 10,
     "metadata": {},
     "output_type": "execute_result"
    }
   ],
   "source": [
    "sevens"
   ]
  },
  {
   "cell_type": "markdown",
   "id": "1b8d08c9-ed1b-4ff7-98ac-fc1618e932bf",
   "metadata": {},
   "source": [
    "Taking a look at one image from the 3s folder:"
   ]
  },
  {
   "cell_type": "code",
   "execution_count": 11,
   "id": "7aa44857-e996-48a6-90f5-b5ce36924b9e",
   "metadata": {},
   "outputs": [
    {
     "data": {
      "image/png": "[encoded data removed]",
      "text/plain": [
       "<PIL.PngImagePlugin.PngImageFile image mode=L size=28x28>"
      ]
     },
     "execution_count": 11,
     "metadata": {},
     "output_type": "execute_result"
    }
   ],
   "source": [
    "im3_path = threes[1]\n",
    "im3 = Image.open(im3_path)\n",
    "im3"
   ]
  },
  {
   "cell_type": "code",
   "execution_count": 12,
   "id": "7aecba07-ac6c-4346-a01e-34e01c7ff39d",
   "metadata": {},
   "outputs": [
    {
     "data": {
      "text/plain": [
       "PIL.PngImagePlugin.PngImageFile"
      ]
     },
     "execution_count": 12,
     "metadata": {},
     "output_type": "execute_result"
    }
   ],
   "source": [
    "type(im3)"
   ]
  },
  {
   "cell_type": "markdown",
   "id": "5f13c4e8-ba7c-4197-a957-e251ef2b6531",
   "metadata": {},
   "source": [
    "We need to represent this in number format as everything is represented as numbers in computers.\n",
    "To view the number that represent this image we convert it to a Numpy array or PyTorch tensor."
   ]
  },
  {
   "cell_type": "markdown",
   "id": "be952790-3433-4aeb-9159-da1eda58b13f",
   "metadata": {},
   "source": [
    "\n",
    "To convert it to a Numpy array:"
   ]
  },
  {
   "cell_type": "code",
   "execution_count": 13,
   "id": "4ee2ebac-8af7-4792-81ca-6d027ffa10c8",
   "metadata": {},
   "outputs": [
    {
     "data": {
      "text/plain": [
       "array([[  0,   0,   0,   0,   0,   0],\n",
       "       [  0,   0,   0,   0,   0,  29],\n",
       "       [  0,   0,   0,  48, 166, 224],\n",
       "       [  0,  93, 244, 249, 253, 187],\n",
       "       [  0, 107, 253, 253, 230,  48],\n",
       "       [  0,   3,  20,  20,  15,   0]], dtype=uint8)"
      ]
     },
     "execution_count": 13,
     "metadata": {},
     "output_type": "execute_result"
    }
   ],
   "source": [
    "array(im3)[4:10, 4:10]"
   ]
  },
  {
   "cell_type": "markdown",
   "id": "e7186f17-14f3-4175-bb2c-0acb534da250",
   "metadata": {},
   "source": [
    "To convert to a PyTorch Tensor:"
   ]
  },
  {
   "cell_type": "code",
   "execution_count": 14,
   "id": "e3cb2480-04da-402c-9eee-6a0d0a6ccd66",
   "metadata": {},
   "outputs": [
    {
     "data": {
      "text/plain": [
       "tensor([[  0,   0,   0,   0,   0,   0],\n",
       "        [  0,   0,   0,   0,   0,  29],\n",
       "        [  0,   0,   0,  48, 166, 224],\n",
       "        [  0,  93, 244, 249, 253, 187],\n",
       "        [  0, 107, 253, 253, 230,  48],\n",
       "        [  0,   3,  20,  20,  15,   0]], dtype=torch.uint8)"
      ]
     },
     "execution_count": 14,
     "metadata": {},
     "output_type": "execute_result"
    }
   ],
   "source": [
    "tensor(im3)[4:10, 4:10]"
   ]
  },
  {
   "cell_type": "code",
   "execution_count": 15,
   "id": "00383d47-3bc2-45f7-88eb-e37eda6367bd",
   "metadata": {},
   "outputs": [
    {
     "data": {
      "text/html": [
       "<style type=\"text/css\">\n",
       "#T_b6d35_row0_col0, #T_b6d35_row0_col1, #T_b6d35_row0_col2, #T_b6d35_row0_col3, #T_b6d35_row0_col4, #T_b6d35_row0_col5, #T_b6d35_row0_col6, #T_b6d35_row0_col7, #T_b6d35_row0_col8, #T_b6d35_row0_col9, #T_b6d35_row0_col10, #T_b6d35_row0_col11, #T_b6d35_row0_col12, #T_b6d35_row0_col13, #T_b6d35_row0_col14, #T_b6d35_row0_col15, #T_b6d35_row0_col16, #T_b6d35_row0_col17, #T_b6d35_row1_col0, #T_b6d35_row1_col1, #T_b6d35_row1_col2, #T_b6d35_row1_col3, #T_b6d35_row1_col4, #T_b6d35_row1_col15, #T_b6d35_row1_col16, #T_b6d35_row1_col17, #T_b6d35_row2_col0, #T_b6d35_row2_col1, #T_b6d35_row2_col2, #T_b6d35_row2_col15, #T_b6d35_row2_col16, #T_b6d35_row2_col17, #T_b6d35_row3_col0, #T_b6d35_row3_col15, #T_b6d35_row3_col16, #T_b6d35_row3_col17, #T_b6d35_row4_col0, #T_b6d35_row4_col6, #T_b6d35_row4_col7, #T_b6d35_row4_col8, #T_b6d35_row4_col9, #T_b6d35_row4_col10, #T_b6d35_row4_col15, #T_b6d35_row4_col16, #T_b6d35_row4_col17, #T_b6d35_row5_col0, #T_b6d35_row5_col5, #T_b6d35_row5_col6, #T_b6d35_row5_col7, #T_b6d35_row5_col8, #T_b6d35_row5_col9, #T_b6d35_row5_col15, #T_b6d35_row5_col16, #T_b6d35_row5_col17, #T_b6d35_row6_col0, #T_b6d35_row6_col1, #T_b6d35_row6_col2, #T_b6d35_row6_col3, #T_b6d35_row6_col4, #T_b6d35_row6_col5, #T_b6d35_row6_col6, #T_b6d35_row6_col7, #T_b6d35_row6_col8, #T_b6d35_row6_col9, #T_b6d35_row6_col14, #T_b6d35_row6_col15, #T_b6d35_row6_col16, #T_b6d35_row6_col17, #T_b6d35_row7_col0, #T_b6d35_row7_col1, #T_b6d35_row7_col2, #T_b6d35_row7_col3, #T_b6d35_row7_col4, #T_b6d35_row7_col5, #T_b6d35_row7_col6, #T_b6d35_row7_col13, #T_b6d35_row7_col14, #T_b6d35_row7_col15, #T_b6d35_row7_col16, #T_b6d35_row7_col17, #T_b6d35_row8_col0, #T_b6d35_row8_col1, #T_b6d35_row8_col2, #T_b6d35_row8_col3, #T_b6d35_row8_col4, #T_b6d35_row8_col13, #T_b6d35_row8_col14, #T_b6d35_row8_col15, #T_b6d35_row8_col16, #T_b6d35_row8_col17, #T_b6d35_row9_col0, #T_b6d35_row9_col1, #T_b6d35_row9_col2, #T_b6d35_row9_col3, #T_b6d35_row9_col4, #T_b6d35_row9_col16, #T_b6d35_row9_col17, #T_b6d35_row10_col0, #T_b6d35_row10_col1, #T_b6d35_row10_col2, #T_b6d35_row10_col3, #T_b6d35_row10_col4, #T_b6d35_row10_col5, #T_b6d35_row10_col6, #T_b6d35_row10_col17 {\n",
       "  font-size: 6pt;\n",
       "  background-color: #ffffff;\n",
       "  color: #000000;\n",
       "}\n",
       "#T_b6d35_row1_col5 {\n",
       "  font-size: 6pt;\n",
       "  background-color: #efefef;\n",
       "  color: #000000;\n",
       "}\n",
       "#T_b6d35_row1_col6, #T_b6d35_row1_col13 {\n",
       "  font-size: 6pt;\n",
       "  background-color: #7c7c7c;\n",
       "  color: #f1f1f1;\n",
       "}\n",
       "#T_b6d35_row1_col7 {\n",
       "  font-size: 6pt;\n",
       "  background-color: #4a4a4a;\n",
       "  color: #f1f1f1;\n",
       "}\n",
       "#T_b6d35_row1_col8, #T_b6d35_row1_col9, #T_b6d35_row1_col10, #T_b6d35_row2_col5, #T_b6d35_row2_col6, #T_b6d35_row2_col7, #T_b6d35_row2_col11, #T_b6d35_row2_col12, #T_b6d35_row2_col13, #T_b6d35_row3_col4, #T_b6d35_row3_col12, #T_b6d35_row3_col13, #T_b6d35_row4_col1, #T_b6d35_row4_col2, #T_b6d35_row4_col3, #T_b6d35_row4_col12, #T_b6d35_row4_col13, #T_b6d35_row5_col12, #T_b6d35_row6_col11, #T_b6d35_row9_col11, #T_b6d35_row10_col11, #T_b6d35_row10_col12, #T_b6d35_row10_col13, #T_b6d35_row10_col14, #T_b6d35_row10_col15, #T_b6d35_row10_col16 {\n",
       "  font-size: 6pt;\n",
       "  background-color: #000000;\n",
       "  color: #f1f1f1;\n",
       "}\n",
       "#T_b6d35_row1_col11 {\n",
       "  font-size: 6pt;\n",
       "  background-color: #606060;\n",
       "  color: #f1f1f1;\n",
       "}\n",
       "#T_b6d35_row1_col12 {\n",
       "  font-size: 6pt;\n",
       "  background-color: #4d4d4d;\n",
       "  color: #f1f1f1;\n",
       "}\n",
       "#T_b6d35_row1_col14 {\n",
       "  font-size: 6pt;\n",
       "  background-color: #bbbbbb;\n",
       "  color: #000000;\n",
       "}\n",
       "#T_b6d35_row2_col3 {\n",
       "  font-size: 6pt;\n",
       "  background-color: #e4e4e4;\n",
       "  color: #000000;\n",
       "}\n",
       "#T_b6d35_row2_col4, #T_b6d35_row8_col6 {\n",
       "  font-size: 6pt;\n",
       "  background-color: #6b6b6b;\n",
       "  color: #f1f1f1;\n",
       "}\n",
       "#T_b6d35_row2_col8, #T_b6d35_row2_col14, #T_b6d35_row3_col14 {\n",
       "  font-size: 6pt;\n",
       "  background-color: #171717;\n",
       "  color: #f1f1f1;\n",
       "}\n",
       "#T_b6d35_row2_col9, #T_b6d35_row3_col11 {\n",
       "  font-size: 6pt;\n",
       "  background-color: #4b4b4b;\n",
       "  color: #f1f1f1;\n",
       "}\n",
       "#T_b6d35_row2_col10, #T_b6d35_row7_col10, #T_b6d35_row8_col8, #T_b6d35_row8_col10, #T_b6d35_row9_col8, #T_b6d35_row9_col10 {\n",
       "  font-size: 6pt;\n",
       "  background-color: #010101;\n",
       "  color: #f1f1f1;\n",
       "}\n",
       "#T_b6d35_row3_col1 {\n",
       "  font-size: 6pt;\n",
       "  background-color: #272727;\n",
       "  color: #f1f1f1;\n",
       "}\n",
       "#T_b6d35_row3_col2 {\n",
       "  font-size: 6pt;\n",
       "  background-color: #0a0a0a;\n",
       "  color: #f1f1f1;\n",
       "}\n",
       "#T_b6d35_row3_col3 {\n",
       "  font-size: 6pt;\n",
       "  background-color: #050505;\n",
       "  color: #f1f1f1;\n",
       "}\n",
       "#T_b6d35_row3_col5 {\n",
       "  font-size: 6pt;\n",
       "  background-color: #333333;\n",
       "  color: #f1f1f1;\n",
       "}\n",
       "#T_b6d35_row3_col6 {\n",
       "  font-size: 6pt;\n",
       "  background-color: #e6e6e6;\n",
       "  color: #000000;\n",
       "}\n",
       "#T_b6d35_row3_col7, #T_b6d35_row3_col10 {\n",
       "  font-size: 6pt;\n",
       "  background-color: #fafafa;\n",
       "  color: #000000;\n",
       "}\n",
       "#T_b6d35_row3_col8 {\n",
       "  font-size: 6pt;\n",
       "  background-color: #fbfbfb;\n",
       "  color: #000000;\n",
       "}\n",
       "#T_b6d35_row3_col9 {\n",
       "  font-size: 6pt;\n",
       "  background-color: #fdfdfd;\n",
       "  color: #000000;\n",
       "}\n",
       "#T_b6d35_row4_col4 {\n",
       "  font-size: 6pt;\n",
       "  background-color: #1b1b1b;\n",
       "  color: #f1f1f1;\n",
       "}\n",
       "#T_b6d35_row4_col5 {\n",
       "  font-size: 6pt;\n",
       "  background-color: #e0e0e0;\n",
       "  color: #000000;\n",
       "}\n",
       "#T_b6d35_row4_col11 {\n",
       "  font-size: 6pt;\n",
       "  background-color: #4e4e4e;\n",
       "  color: #f1f1f1;\n",
       "}\n",
       "#T_b6d35_row4_col14 {\n",
       "  font-size: 6pt;\n",
       "  background-color: #767676;\n",
       "  color: #f1f1f1;\n",
       "}\n",
       "#T_b6d35_row5_col1 {\n",
       "  font-size: 6pt;\n",
       "  background-color: #fcfcfc;\n",
       "  color: #000000;\n",
       "}\n",
       "#T_b6d35_row5_col2, #T_b6d35_row5_col3 {\n",
       "  font-size: 6pt;\n",
       "  background-color: #f6f6f6;\n",
       "  color: #000000;\n",
       "}\n",
       "#T_b6d35_row5_col4, #T_b6d35_row7_col7 {\n",
       "  font-size: 6pt;\n",
       "  background-color: #f8f8f8;\n",
       "  color: #000000;\n",
       "}\n",
       "#T_b6d35_row5_col10, #T_b6d35_row10_col7 {\n",
       "  font-size: 6pt;\n",
       "  background-color: #e8e8e8;\n",
       "  color: #000000;\n",
       "}\n",
       "#T_b6d35_row5_col11 {\n",
       "  font-size: 6pt;\n",
       "  background-color: #222222;\n",
       "  color: #f1f1f1;\n",
       "}\n",
       "#T_b6d35_row5_col13, #T_b6d35_row6_col12 {\n",
       "  font-size: 6pt;\n",
       "  background-color: #090909;\n",
       "  color: #f1f1f1;\n",
       "}\n",
       "#T_b6d35_row5_col14 {\n",
       "  font-size: 6pt;\n",
       "  background-color: #d0d0d0;\n",
       "  color: #000000;\n",
       "}\n",
       "#T_b6d35_row6_col10, #T_b6d35_row7_col11, #T_b6d35_row9_col6 {\n",
       "  font-size: 6pt;\n",
       "  background-color: #060606;\n",
       "  color: #f1f1f1;\n",
       "}\n",
       "#T_b6d35_row6_col13 {\n",
       "  font-size: 6pt;\n",
       "  background-color: #979797;\n",
       "  color: #f1f1f1;\n",
       "}\n",
       "#T_b6d35_row7_col8 {\n",
       "  font-size: 6pt;\n",
       "  background-color: #b6b6b6;\n",
       "  color: #000000;\n",
       "}\n",
       "#T_b6d35_row7_col9 {\n",
       "  font-size: 6pt;\n",
       "  background-color: #252525;\n",
       "  color: #f1f1f1;\n",
       "}\n",
       "#T_b6d35_row7_col12 {\n",
       "  font-size: 6pt;\n",
       "  background-color: #999999;\n",
       "  color: #f1f1f1;\n",
       "}\n",
       "#T_b6d35_row8_col5 {\n",
       "  font-size: 6pt;\n",
       "  background-color: #f9f9f9;\n",
       "  color: #000000;\n",
       "}\n",
       "#T_b6d35_row8_col7 {\n",
       "  font-size: 6pt;\n",
       "  background-color: #101010;\n",
       "  color: #f1f1f1;\n",
       "}\n",
       "#T_b6d35_row8_col9, #T_b6d35_row9_col9 {\n",
       "  font-size: 6pt;\n",
       "  background-color: #020202;\n",
       "  color: #f1f1f1;\n",
       "}\n",
       "#T_b6d35_row8_col11 {\n",
       "  font-size: 6pt;\n",
       "  background-color: #545454;\n",
       "  color: #f1f1f1;\n",
       "}\n",
       "#T_b6d35_row8_col12 {\n",
       "  font-size: 6pt;\n",
       "  background-color: #f1f1f1;\n",
       "  color: #000000;\n",
       "}\n",
       "#T_b6d35_row9_col5 {\n",
       "  font-size: 6pt;\n",
       "  background-color: #f7f7f7;\n",
       "  color: #000000;\n",
       "}\n",
       "#T_b6d35_row9_col7 {\n",
       "  font-size: 6pt;\n",
       "  background-color: #030303;\n",
       "  color: #f1f1f1;\n",
       "}\n",
       "#T_b6d35_row9_col12 {\n",
       "  font-size: 6pt;\n",
       "  background-color: #181818;\n",
       "  color: #f1f1f1;\n",
       "}\n",
       "#T_b6d35_row9_col13 {\n",
       "  font-size: 6pt;\n",
       "  background-color: #303030;\n",
       "  color: #f1f1f1;\n",
       "}\n",
       "#T_b6d35_row9_col14 {\n",
       "  font-size: 6pt;\n",
       "  background-color: #a9a9a9;\n",
       "  color: #f1f1f1;\n",
       "}\n",
       "#T_b6d35_row9_col15 {\n",
       "  font-size: 6pt;\n",
       "  background-color: #fefefe;\n",
       "  color: #000000;\n",
       "}\n",
       "#T_b6d35_row10_col8, #T_b6d35_row10_col9 {\n",
       "  font-size: 6pt;\n",
       "  background-color: #bababa;\n",
       "  color: #000000;\n",
       "}\n",
       "#T_b6d35_row10_col10 {\n",
       "  font-size: 6pt;\n",
       "  background-color: #393939;\n",
       "  color: #f1f1f1;\n",
       "}\n",
       "</style>\n",
       "<table id=\"T_b6d35\">\n",
       "  <thead>\n",
       "    <tr>\n",
       "      <th class=\"blank level0\" >&nbsp;</th>\n",
       "      <th id=\"T_b6d35_level0_col0\" class=\"col_heading level0 col0\" >0</th>\n",
       "      <th id=\"T_b6d35_level0_col1\" class=\"col_heading level0 col1\" >1</th>\n",
       "      <th id=\"T_b6d35_level0_col2\" class=\"col_heading level0 col2\" >2</th>\n",
       "      <th id=\"T_b6d35_level0_col3\" class=\"col_heading level0 col3\" >3</th>\n",
       "      <th id=\"T_b6d35_level0_col4\" class=\"col_heading level0 col4\" >4</th>\n",
       "      <th id=\"T_b6d35_level0_col5\" class=\"col_heading level0 col5\" >5</th>\n",
       "      <th id=\"T_b6d35_level0_col6\" class=\"col_heading level0 col6\" >6</th>\n",
       "      <th id=\"T_b6d35_level0_col7\" class=\"col_heading level0 col7\" >7</th>\n",
       "      <th id=\"T_b6d35_level0_col8\" class=\"col_heading level0 col8\" >8</th>\n",
       "      <th id=\"T_b6d35_level0_col9\" class=\"col_heading level0 col9\" >9</th>\n",
       "      <th id=\"T_b6d35_level0_col10\" class=\"col_heading level0 col10\" >10</th>\n",
       "      <th id=\"T_b6d35_level0_col11\" class=\"col_heading level0 col11\" >11</th>\n",
       "      <th id=\"T_b6d35_level0_col12\" class=\"col_heading level0 col12\" >12</th>\n",
       "      <th id=\"T_b6d35_level0_col13\" class=\"col_heading level0 col13\" >13</th>\n",
       "      <th id=\"T_b6d35_level0_col14\" class=\"col_heading level0 col14\" >14</th>\n",
       "      <th id=\"T_b6d35_level0_col15\" class=\"col_heading level0 col15\" >15</th>\n",
       "      <th id=\"T_b6d35_level0_col16\" class=\"col_heading level0 col16\" >16</th>\n",
       "      <th id=\"T_b6d35_level0_col17\" class=\"col_heading level0 col17\" >17</th>\n",
       "    </tr>\n",
       "  </thead>\n",
       "  <tbody>\n",
       "    <tr>\n",
       "      <th id=\"T_b6d35_level0_row0\" class=\"row_heading level0 row0\" >0</th>\n",
       "      <td id=\"T_b6d35_row0_col0\" class=\"data row0 col0\" >0</td>\n",
       "      <td id=\"T_b6d35_row0_col1\" class=\"data row0 col1\" >0</td>\n",
       "      <td id=\"T_b6d35_row0_col2\" class=\"data row0 col2\" >0</td>\n",
       "      <td id=\"T_b6d35_row0_col3\" class=\"data row0 col3\" >0</td>\n",
       "      <td id=\"T_b6d35_row0_col4\" class=\"data row0 col4\" >0</td>\n",
       "      <td id=\"T_b6d35_row0_col5\" class=\"data row0 col5\" >0</td>\n",
       "      <td id=\"T_b6d35_row0_col6\" class=\"data row0 col6\" >0</td>\n",
       "      <td id=\"T_b6d35_row0_col7\" class=\"data row0 col7\" >0</td>\n",
       "      <td id=\"T_b6d35_row0_col8\" class=\"data row0 col8\" >0</td>\n",
       "      <td id=\"T_b6d35_row0_col9\" class=\"data row0 col9\" >0</td>\n",
       "      <td id=\"T_b6d35_row0_col10\" class=\"data row0 col10\" >0</td>\n",
       "      <td id=\"T_b6d35_row0_col11\" class=\"data row0 col11\" >0</td>\n",
       "      <td id=\"T_b6d35_row0_col12\" class=\"data row0 col12\" >0</td>\n",
       "      <td id=\"T_b6d35_row0_col13\" class=\"data row0 col13\" >0</td>\n",
       "      <td id=\"T_b6d35_row0_col14\" class=\"data row0 col14\" >0</td>\n",
       "      <td id=\"T_b6d35_row0_col15\" class=\"data row0 col15\" >0</td>\n",
       "      <td id=\"T_b6d35_row0_col16\" class=\"data row0 col16\" >0</td>\n",
       "      <td id=\"T_b6d35_row0_col17\" class=\"data row0 col17\" >0</td>\n",
       "    </tr>\n",
       "    <tr>\n",
       "      <th id=\"T_b6d35_level0_row1\" class=\"row_heading level0 row1\" >1</th>\n",
       "      <td id=\"T_b6d35_row1_col0\" class=\"data row1 col0\" >0</td>\n",
       "      <td id=\"T_b6d35_row1_col1\" class=\"data row1 col1\" >0</td>\n",
       "      <td id=\"T_b6d35_row1_col2\" class=\"data row1 col2\" >0</td>\n",
       "      <td id=\"T_b6d35_row1_col3\" class=\"data row1 col3\" >0</td>\n",
       "      <td id=\"T_b6d35_row1_col4\" class=\"data row1 col4\" >0</td>\n",
       "      <td id=\"T_b6d35_row1_col5\" class=\"data row1 col5\" >29</td>\n",
       "      <td id=\"T_b6d35_row1_col6\" class=\"data row1 col6\" >150</td>\n",
       "      <td id=\"T_b6d35_row1_col7\" class=\"data row1 col7\" >195</td>\n",
       "      <td id=\"T_b6d35_row1_col8\" class=\"data row1 col8\" >254</td>\n",
       "      <td id=\"T_b6d35_row1_col9\" class=\"data row1 col9\" >255</td>\n",
       "      <td id=\"T_b6d35_row1_col10\" class=\"data row1 col10\" >254</td>\n",
       "      <td id=\"T_b6d35_row1_col11\" class=\"data row1 col11\" >176</td>\n",
       "      <td id=\"T_b6d35_row1_col12\" class=\"data row1 col12\" >193</td>\n",
       "      <td id=\"T_b6d35_row1_col13\" class=\"data row1 col13\" >150</td>\n",
       "      <td id=\"T_b6d35_row1_col14\" class=\"data row1 col14\" >96</td>\n",
       "      <td id=\"T_b6d35_row1_col15\" class=\"data row1 col15\" >0</td>\n",
       "      <td id=\"T_b6d35_row1_col16\" class=\"data row1 col16\" >0</td>\n",
       "      <td id=\"T_b6d35_row1_col17\" class=\"data row1 col17\" >0</td>\n",
       "    </tr>\n",
       "    <tr>\n",
       "      <th id=\"T_b6d35_level0_row2\" class=\"row_heading level0 row2\" >2</th>\n",
       "      <td id=\"T_b6d35_row2_col0\" class=\"data row2 col0\" >0</td>\n",
       "      <td id=\"T_b6d35_row2_col1\" class=\"data row2 col1\" >0</td>\n",
       "      <td id=\"T_b6d35_row2_col2\" class=\"data row2 col2\" >0</td>\n",
       "      <td id=\"T_b6d35_row2_col3\" class=\"data row2 col3\" >48</td>\n",
       "      <td id=\"T_b6d35_row2_col4\" class=\"data row2 col4\" >166</td>\n",
       "      <td id=\"T_b6d35_row2_col5\" class=\"data row2 col5\" >224</td>\n",
       "      <td id=\"T_b6d35_row2_col6\" class=\"data row2 col6\" >253</td>\n",
       "      <td id=\"T_b6d35_row2_col7\" class=\"data row2 col7\" >253</td>\n",
       "      <td id=\"T_b6d35_row2_col8\" class=\"data row2 col8\" >234</td>\n",
       "      <td id=\"T_b6d35_row2_col9\" class=\"data row2 col9\" >196</td>\n",
       "      <td id=\"T_b6d35_row2_col10\" class=\"data row2 col10\" >253</td>\n",
       "      <td id=\"T_b6d35_row2_col11\" class=\"data row2 col11\" >253</td>\n",
       "      <td id=\"T_b6d35_row2_col12\" class=\"data row2 col12\" >253</td>\n",
       "      <td id=\"T_b6d35_row2_col13\" class=\"data row2 col13\" >253</td>\n",
       "      <td id=\"T_b6d35_row2_col14\" class=\"data row2 col14\" >233</td>\n",
       "      <td id=\"T_b6d35_row2_col15\" class=\"data row2 col15\" >0</td>\n",
       "      <td id=\"T_b6d35_row2_col16\" class=\"data row2 col16\" >0</td>\n",
       "      <td id=\"T_b6d35_row2_col17\" class=\"data row2 col17\" >0</td>\n",
       "    </tr>\n",
       "    <tr>\n",
       "      <th id=\"T_b6d35_level0_row3\" class=\"row_heading level0 row3\" >3</th>\n",
       "      <td id=\"T_b6d35_row3_col0\" class=\"data row3 col0\" >0</td>\n",
       "      <td id=\"T_b6d35_row3_col1\" class=\"data row3 col1\" >93</td>\n",
       "      <td id=\"T_b6d35_row3_col2\" class=\"data row3 col2\" >244</td>\n",
       "      <td id=\"T_b6d35_row3_col3\" class=\"data row3 col3\" >249</td>\n",
       "      <td id=\"T_b6d35_row3_col4\" class=\"data row3 col4\" >253</td>\n",
       "      <td id=\"T_b6d35_row3_col5\" class=\"data row3 col5\" >187</td>\n",
       "      <td id=\"T_b6d35_row3_col6\" class=\"data row3 col6\" >46</td>\n",
       "      <td id=\"T_b6d35_row3_col7\" class=\"data row3 col7\" >10</td>\n",
       "      <td id=\"T_b6d35_row3_col8\" class=\"data row3 col8\" >8</td>\n",
       "      <td id=\"T_b6d35_row3_col9\" class=\"data row3 col9\" >4</td>\n",
       "      <td id=\"T_b6d35_row3_col10\" class=\"data row3 col10\" >10</td>\n",
       "      <td id=\"T_b6d35_row3_col11\" class=\"data row3 col11\" >194</td>\n",
       "      <td id=\"T_b6d35_row3_col12\" class=\"data row3 col12\" >253</td>\n",
       "      <td id=\"T_b6d35_row3_col13\" class=\"data row3 col13\" >253</td>\n",
       "      <td id=\"T_b6d35_row3_col14\" class=\"data row3 col14\" >233</td>\n",
       "      <td id=\"T_b6d35_row3_col15\" class=\"data row3 col15\" >0</td>\n",
       "      <td id=\"T_b6d35_row3_col16\" class=\"data row3 col16\" >0</td>\n",
       "      <td id=\"T_b6d35_row3_col17\" class=\"data row3 col17\" >0</td>\n",
       "    </tr>\n",
       "    <tr>\n",
       "      <th id=\"T_b6d35_level0_row4\" class=\"row_heading level0 row4\" >4</th>\n",
       "      <td id=\"T_b6d35_row4_col0\" class=\"data row4 col0\" >0</td>\n",
       "      <td id=\"T_b6d35_row4_col1\" class=\"data row4 col1\" >107</td>\n",
       "      <td id=\"T_b6d35_row4_col2\" class=\"data row4 col2\" >253</td>\n",
       "      <td id=\"T_b6d35_row4_col3\" class=\"data row4 col3\" >253</td>\n",
       "      <td id=\"T_b6d35_row4_col4\" class=\"data row4 col4\" >230</td>\n",
       "      <td id=\"T_b6d35_row4_col5\" class=\"data row4 col5\" >48</td>\n",
       "      <td id=\"T_b6d35_row4_col6\" class=\"data row4 col6\" >0</td>\n",
       "      <td id=\"T_b6d35_row4_col7\" class=\"data row4 col7\" >0</td>\n",
       "      <td id=\"T_b6d35_row4_col8\" class=\"data row4 col8\" >0</td>\n",
       "      <td id=\"T_b6d35_row4_col9\" class=\"data row4 col9\" >0</td>\n",
       "      <td id=\"T_b6d35_row4_col10\" class=\"data row4 col10\" >0</td>\n",
       "      <td id=\"T_b6d35_row4_col11\" class=\"data row4 col11\" >192</td>\n",
       "      <td id=\"T_b6d35_row4_col12\" class=\"data row4 col12\" >253</td>\n",
       "      <td id=\"T_b6d35_row4_col13\" class=\"data row4 col13\" >253</td>\n",
       "      <td id=\"T_b6d35_row4_col14\" class=\"data row4 col14\" >156</td>\n",
       "      <td id=\"T_b6d35_row4_col15\" class=\"data row4 col15\" >0</td>\n",
       "      <td id=\"T_b6d35_row4_col16\" class=\"data row4 col16\" >0</td>\n",
       "      <td id=\"T_b6d35_row4_col17\" class=\"data row4 col17\" >0</td>\n",
       "    </tr>\n",
       "    <tr>\n",
       "      <th id=\"T_b6d35_level0_row5\" class=\"row_heading level0 row5\" >5</th>\n",
       "      <td id=\"T_b6d35_row5_col0\" class=\"data row5 col0\" >0</td>\n",
       "      <td id=\"T_b6d35_row5_col1\" class=\"data row5 col1\" >3</td>\n",
       "      <td id=\"T_b6d35_row5_col2\" class=\"data row5 col2\" >20</td>\n",
       "      <td id=\"T_b6d35_row5_col3\" class=\"data row5 col3\" >20</td>\n",
       "      <td id=\"T_b6d35_row5_col4\" class=\"data row5 col4\" >15</td>\n",
       "      <td id=\"T_b6d35_row5_col5\" class=\"data row5 col5\" >0</td>\n",
       "      <td id=\"T_b6d35_row5_col6\" class=\"data row5 col6\" >0</td>\n",
       "      <td id=\"T_b6d35_row5_col7\" class=\"data row5 col7\" >0</td>\n",
       "      <td id=\"T_b6d35_row5_col8\" class=\"data row5 col8\" >0</td>\n",
       "      <td id=\"T_b6d35_row5_col9\" class=\"data row5 col9\" >0</td>\n",
       "      <td id=\"T_b6d35_row5_col10\" class=\"data row5 col10\" >43</td>\n",
       "      <td id=\"T_b6d35_row5_col11\" class=\"data row5 col11\" >224</td>\n",
       "      <td id=\"T_b6d35_row5_col12\" class=\"data row5 col12\" >253</td>\n",
       "      <td id=\"T_b6d35_row5_col13\" class=\"data row5 col13\" >245</td>\n",
       "      <td id=\"T_b6d35_row5_col14\" class=\"data row5 col14\" >74</td>\n",
       "      <td id=\"T_b6d35_row5_col15\" class=\"data row5 col15\" >0</td>\n",
       "      <td id=\"T_b6d35_row5_col16\" class=\"data row5 col16\" >0</td>\n",
       "      <td id=\"T_b6d35_row5_col17\" class=\"data row5 col17\" >0</td>\n",
       "    </tr>\n",
       "    <tr>\n",
       "      <th id=\"T_b6d35_level0_row6\" class=\"row_heading level0 row6\" >6</th>\n",
       "      <td id=\"T_b6d35_row6_col0\" class=\"data row6 col0\" >0</td>\n",
       "      <td id=\"T_b6d35_row6_col1\" class=\"data row6 col1\" >0</td>\n",
       "      <td id=\"T_b6d35_row6_col2\" class=\"data row6 col2\" >0</td>\n",
       "      <td id=\"T_b6d35_row6_col3\" class=\"data row6 col3\" >0</td>\n",
       "      <td id=\"T_b6d35_row6_col4\" class=\"data row6 col4\" >0</td>\n",
       "      <td id=\"T_b6d35_row6_col5\" class=\"data row6 col5\" >0</td>\n",
       "      <td id=\"T_b6d35_row6_col6\" class=\"data row6 col6\" >0</td>\n",
       "      <td id=\"T_b6d35_row6_col7\" class=\"data row6 col7\" >0</td>\n",
       "      <td id=\"T_b6d35_row6_col8\" class=\"data row6 col8\" >0</td>\n",
       "      <td id=\"T_b6d35_row6_col9\" class=\"data row6 col9\" >0</td>\n",
       "      <td id=\"T_b6d35_row6_col10\" class=\"data row6 col10\" >249</td>\n",
       "      <td id=\"T_b6d35_row6_col11\" class=\"data row6 col11\" >253</td>\n",
       "      <td id=\"T_b6d35_row6_col12\" class=\"data row6 col12\" >245</td>\n",
       "      <td id=\"T_b6d35_row6_col13\" class=\"data row6 col13\" >126</td>\n",
       "      <td id=\"T_b6d35_row6_col14\" class=\"data row6 col14\" >0</td>\n",
       "      <td id=\"T_b6d35_row6_col15\" class=\"data row6 col15\" >0</td>\n",
       "      <td id=\"T_b6d35_row6_col16\" class=\"data row6 col16\" >0</td>\n",
       "      <td id=\"T_b6d35_row6_col17\" class=\"data row6 col17\" >0</td>\n",
       "    </tr>\n",
       "    <tr>\n",
       "      <th id=\"T_b6d35_level0_row7\" class=\"row_heading level0 row7\" >7</th>\n",
       "      <td id=\"T_b6d35_row7_col0\" class=\"data row7 col0\" >0</td>\n",
       "      <td id=\"T_b6d35_row7_col1\" class=\"data row7 col1\" >0</td>\n",
       "      <td id=\"T_b6d35_row7_col2\" class=\"data row7 col2\" >0</td>\n",
       "      <td id=\"T_b6d35_row7_col3\" class=\"data row7 col3\" >0</td>\n",
       "      <td id=\"T_b6d35_row7_col4\" class=\"data row7 col4\" >0</td>\n",
       "      <td id=\"T_b6d35_row7_col5\" class=\"data row7 col5\" >0</td>\n",
       "      <td id=\"T_b6d35_row7_col6\" class=\"data row7 col6\" >0</td>\n",
       "      <td id=\"T_b6d35_row7_col7\" class=\"data row7 col7\" >14</td>\n",
       "      <td id=\"T_b6d35_row7_col8\" class=\"data row7 col8\" >101</td>\n",
       "      <td id=\"T_b6d35_row7_col9\" class=\"data row7 col9\" >223</td>\n",
       "      <td id=\"T_b6d35_row7_col10\" class=\"data row7 col10\" >253</td>\n",
       "      <td id=\"T_b6d35_row7_col11\" class=\"data row7 col11\" >248</td>\n",
       "      <td id=\"T_b6d35_row7_col12\" class=\"data row7 col12\" >124</td>\n",
       "      <td id=\"T_b6d35_row7_col13\" class=\"data row7 col13\" >0</td>\n",
       "      <td id=\"T_b6d35_row7_col14\" class=\"data row7 col14\" >0</td>\n",
       "      <td id=\"T_b6d35_row7_col15\" class=\"data row7 col15\" >0</td>\n",
       "      <td id=\"T_b6d35_row7_col16\" class=\"data row7 col16\" >0</td>\n",
       "      <td id=\"T_b6d35_row7_col17\" class=\"data row7 col17\" >0</td>\n",
       "    </tr>\n",
       "    <tr>\n",
       "      <th id=\"T_b6d35_level0_row8\" class=\"row_heading level0 row8\" >8</th>\n",
       "      <td id=\"T_b6d35_row8_col0\" class=\"data row8 col0\" >0</td>\n",
       "      <td id=\"T_b6d35_row8_col1\" class=\"data row8 col1\" >0</td>\n",
       "      <td id=\"T_b6d35_row8_col2\" class=\"data row8 col2\" >0</td>\n",
       "      <td id=\"T_b6d35_row8_col3\" class=\"data row8 col3\" >0</td>\n",
       "      <td id=\"T_b6d35_row8_col4\" class=\"data row8 col4\" >0</td>\n",
       "      <td id=\"T_b6d35_row8_col5\" class=\"data row8 col5\" >11</td>\n",
       "      <td id=\"T_b6d35_row8_col6\" class=\"data row8 col6\" >166</td>\n",
       "      <td id=\"T_b6d35_row8_col7\" class=\"data row8 col7\" >239</td>\n",
       "      <td id=\"T_b6d35_row8_col8\" class=\"data row8 col8\" >253</td>\n",
       "      <td id=\"T_b6d35_row8_col9\" class=\"data row8 col9\" >253</td>\n",
       "      <td id=\"T_b6d35_row8_col10\" class=\"data row8 col10\" >253</td>\n",
       "      <td id=\"T_b6d35_row8_col11\" class=\"data row8 col11\" >187</td>\n",
       "      <td id=\"T_b6d35_row8_col12\" class=\"data row8 col12\" >30</td>\n",
       "      <td id=\"T_b6d35_row8_col13\" class=\"data row8 col13\" >0</td>\n",
       "      <td id=\"T_b6d35_row8_col14\" class=\"data row8 col14\" >0</td>\n",
       "      <td id=\"T_b6d35_row8_col15\" class=\"data row8 col15\" >0</td>\n",
       "      <td id=\"T_b6d35_row8_col16\" class=\"data row8 col16\" >0</td>\n",
       "      <td id=\"T_b6d35_row8_col17\" class=\"data row8 col17\" >0</td>\n",
       "    </tr>\n",
       "    <tr>\n",
       "      <th id=\"T_b6d35_level0_row9\" class=\"row_heading level0 row9\" >9</th>\n",
       "      <td id=\"T_b6d35_row9_col0\" class=\"data row9 col0\" >0</td>\n",
       "      <td id=\"T_b6d35_row9_col1\" class=\"data row9 col1\" >0</td>\n",
       "      <td id=\"T_b6d35_row9_col2\" class=\"data row9 col2\" >0</td>\n",
       "      <td id=\"T_b6d35_row9_col3\" class=\"data row9 col3\" >0</td>\n",
       "      <td id=\"T_b6d35_row9_col4\" class=\"data row9 col4\" >0</td>\n",
       "      <td id=\"T_b6d35_row9_col5\" class=\"data row9 col5\" >16</td>\n",
       "      <td id=\"T_b6d35_row9_col6\" class=\"data row9 col6\" >248</td>\n",
       "      <td id=\"T_b6d35_row9_col7\" class=\"data row9 col7\" >250</td>\n",
       "      <td id=\"T_b6d35_row9_col8\" class=\"data row9 col8\" >253</td>\n",
       "      <td id=\"T_b6d35_row9_col9\" class=\"data row9 col9\" >253</td>\n",
       "      <td id=\"T_b6d35_row9_col10\" class=\"data row9 col10\" >253</td>\n",
       "      <td id=\"T_b6d35_row9_col11\" class=\"data row9 col11\" >253</td>\n",
       "      <td id=\"T_b6d35_row9_col12\" class=\"data row9 col12\" >232</td>\n",
       "      <td id=\"T_b6d35_row9_col13\" class=\"data row9 col13\" >213</td>\n",
       "      <td id=\"T_b6d35_row9_col14\" class=\"data row9 col14\" >111</td>\n",
       "      <td id=\"T_b6d35_row9_col15\" class=\"data row9 col15\" >2</td>\n",
       "      <td id=\"T_b6d35_row9_col16\" class=\"data row9 col16\" >0</td>\n",
       "      <td id=\"T_b6d35_row9_col17\" class=\"data row9 col17\" >0</td>\n",
       "    </tr>\n",
       "    <tr>\n",
       "      <th id=\"T_b6d35_level0_row10\" class=\"row_heading level0 row10\" >10</th>\n",
       "      <td id=\"T_b6d35_row10_col0\" class=\"data row10 col0\" >0</td>\n",
       "      <td id=\"T_b6d35_row10_col1\" class=\"data row10 col1\" >0</td>\n",
       "      <td id=\"T_b6d35_row10_col2\" class=\"data row10 col2\" >0</td>\n",
       "      <td id=\"T_b6d35_row10_col3\" class=\"data row10 col3\" >0</td>\n",
       "      <td id=\"T_b6d35_row10_col4\" class=\"data row10 col4\" >0</td>\n",
       "      <td id=\"T_b6d35_row10_col5\" class=\"data row10 col5\" >0</td>\n",
       "      <td id=\"T_b6d35_row10_col6\" class=\"data row10 col6\" >0</td>\n",
       "      <td id=\"T_b6d35_row10_col7\" class=\"data row10 col7\" >43</td>\n",
       "      <td id=\"T_b6d35_row10_col8\" class=\"data row10 col8\" >98</td>\n",
       "      <td id=\"T_b6d35_row10_col9\" class=\"data row10 col9\" >98</td>\n",
       "      <td id=\"T_b6d35_row10_col10\" class=\"data row10 col10\" >208</td>\n",
       "      <td id=\"T_b6d35_row10_col11\" class=\"data row10 col11\" >253</td>\n",
       "      <td id=\"T_b6d35_row10_col12\" class=\"data row10 col12\" >253</td>\n",
       "      <td id=\"T_b6d35_row10_col13\" class=\"data row10 col13\" >253</td>\n",
       "      <td id=\"T_b6d35_row10_col14\" class=\"data row10 col14\" >253</td>\n",
       "      <td id=\"T_b6d35_row10_col15\" class=\"data row10 col15\" >187</td>\n",
       "      <td id=\"T_b6d35_row10_col16\" class=\"data row10 col16\" >22</td>\n",
       "      <td id=\"T_b6d35_row10_col17\" class=\"data row10 col17\" >0</td>\n",
       "    </tr>\n",
       "  </tbody>\n",
       "</table>\n"
      ],
      "text/plain": [
       "<pandas.io.formats.style.Styler at 0x7f40fec9d700>"
      ]
     },
     "execution_count": 15,
     "metadata": {},
     "output_type": "execute_result"
    }
   ],
   "source": [
    "im3_t = tensor(im3)\n",
    "df = pd.DataFrame(im3_t[4:15, 4:22])\n",
    "df.style.set_properties(**{'font-size':'6pt'}).background_gradient('Greys')"
   ]
  },
  {
   "cell_type": "markdown",
   "id": "249a0c21-0857-43fd-a9b2-a28f90bf71bd",
   "metadata": {},
   "source": [
    "## Creating a model that detects a 3"
   ]
  },
  {
   "cell_type": "markdown",
   "id": "eb26a927-a487-415f-80c8-1181e2811ed5",
   "metadata": {},
   "source": [
    "#### Pixel Similarity  \n",
    "- Find the average pixel value for every pixel; of the threes and sevens.  \n",
    "- The two group averages define the \"ideal\" 3 and 7.  \n",
    "- Then to classify an image as a digit, we see which of these two ideal digits the image is similar to."
   ]
  },
  {
   "cell_type": "markdown",
   "id": "fad019a9-1daf-4ed6-bfec-36c2a7558fc8",
   "metadata": {},
   "source": [
    "##### Create a baseline model"
   ]
  },
  {
   "cell_type": "markdown",
   "id": "7c4c9865-43f2-47b9-a4f7-a60ee7d8a2ba",
   "metadata": {},
   "source": [
    "First, we need to list all the images of sevens and threes as tensors."
   ]
  },
  {
   "cell_type": "code",
   "execution_count": 16,
   "id": "6bc79803-a11a-491e-8b4a-5c0190932f12",
   "metadata": {},
   "outputs": [
    {
     "data": {
      "text/plain": [
       "(6131, 6265)"
      ]
     },
     "execution_count": 16,
     "metadata": {},
     "output_type": "execute_result"
    }
   ],
   "source": [
    "seven_tensors = [tensor(Image.open(o)) for o in sevens]\n",
    "three_tensors = [tensor(Image.open(o)) for o in threes]\n",
    "len(three_tensors), len(seven_tensors)"
   ]
  },
  {
   "cell_type": "code",
   "execution_count": 17,
   "id": "6211a0fb-0dd0-433a-9c97-fe0a7ddb630c",
   "metadata": {},
   "outputs": [
    {
     "data": {
      "image/png": "[encoded data removed]",
      "text/plain": [
       "<Figure size 72x72 with 1 Axes>"
      ]
     },
     "metadata": {
      "needs_background": "light"
     },
     "output_type": "display_data"
    }
   ],
   "source": [
    "show_image(three_tensors[1]);"
   ]
  },
  {
   "cell_type": "code",
   "execution_count": 18,
   "id": "1bc79914-a863-440f-89b1-7e634e85013a",
   "metadata": {},
   "outputs": [
    {
     "data": {
      "image/png": "[encoded data removed]",
      "text/plain": [
       "<Figure size 72x72 with 1 Axes>"
      ]
     },
     "metadata": {
      "needs_background": "light"
     },
     "output_type": "display_data"
    }
   ],
   "source": [
    "show_image(seven_tensors[1]);"
   ]
  },
  {
   "cell_type": "code",
   "execution_count": 19,
   "id": "fa4be478-aed1-4b7c-917f-cda16dc675ae",
   "metadata": {},
   "outputs": [
    {
     "data": {
      "text/plain": [
       "list"
      ]
     },
     "execution_count": 19,
     "metadata": {},
     "output_type": "execute_result"
    }
   ],
   "source": [
    "type(seven_tensors)"
   ]
  },
  {
   "cell_type": "markdown",
   "id": "a944b347-ff23-4350-8da6-13040d327e05",
   "metadata": {},
   "source": [
    "We now need to get the average of all those 3s and 7s.  \n",
    "First we need to change three_tensors and seven_tensors from lists, which can't easily do mathematical computations."
   ]
  },
  {
   "cell_type": "code",
   "execution_count": 20,
   "id": "66dddd01-1c06-4d5b-a453-f574e8558800",
   "metadata": {},
   "outputs": [
    {
     "data": {
      "text/plain": [
       "torch.Size([6131, 28, 28])"
      ]
     },
     "execution_count": 20,
     "metadata": {},
     "output_type": "execute_result"
    }
   ],
   "source": [
    "stacked_sevens = torch.stack(seven_tensors).float()/255\n",
    "stacked_threes = torch.stack(three_tensors).float()/255\n",
    "stacked_threes.shape"
   ]
  },
  {
   "cell_type": "markdown",
   "id": "d28bb6de-ed9b-4a53-8e04-c3d09882cd98",
   "metadata": {},
   "source": [
    "This stacks up all the 28×28 pixels images on top of each other."
   ]
  },
  {
   "cell_type": "code",
   "execution_count": 21,
   "id": "1da4c958-11c5-4780-ae5f-e65a559eba32",
   "metadata": {},
   "outputs": [
    {
     "data": {
      "text/plain": [
       "3"
      ]
     },
     "execution_count": 21,
     "metadata": {},
     "output_type": "execute_result"
    }
   ],
   "source": [
    "len(stacked_threes.shape)"
   ]
  },
  {
   "cell_type": "markdown",
   "id": "413d3a5d-e49e-4d62-8282-58277b27d288",
   "metadata": {},
   "source": [
    "This gives us a Rank 3 tensor."
   ]
  },
  {
   "cell_type": "markdown",
   "id": "64f2bf09-da9a-4001-a301-d6a807e1b8d0",
   "metadata": {},
   "source": [
    "We can also get it from 'ndim' that stands for number of dimensions."
   ]
  },
  {
   "cell_type": "code",
   "execution_count": 22,
   "id": "bbba3f12-8e9a-4f88-94d1-7108b8775c0b",
   "metadata": {},
   "outputs": [
    {
     "data": {
      "text/plain": [
       "3"
      ]
     },
     "execution_count": 22,
     "metadata": {},
     "output_type": "execute_result"
    }
   ],
   "source": [
    "stacked_threes.ndim"
   ]
  },
  {
   "cell_type": "markdown",
   "id": "20b29a55-c418-4b84-a421-bdc1b4a5c6d7",
   "metadata": {},
   "source": [
    "Getting the mean for 3 and 7:"
   ]
  },
  {
   "cell_type": "code",
   "execution_count": 23,
   "id": "5ac71e13-ddee-42c0-af39-4aa2f9065022",
   "metadata": {},
   "outputs": [
    {
     "data": {
      "image/png": "[encoded data removed]",
      "text/plain": [
       "<Figure size 72x72 with 1 Axes>"
      ]
     },
     "metadata": {
      "needs_background": "light"
     },
     "output_type": "display_data"
    }
   ],
   "source": [
    "mean3 = stacked_threes.mean(0)\n",
    "show_image(mean3);"
   ]
  },
  {
   "cell_type": "code",
   "execution_count": 24,
   "id": "b575b36b-ce90-46b3-ad3b-a1651b6aa4d6",
   "metadata": {},
   "outputs": [
    {
     "data": {
      "image/png": "[encoded data removed]",
      "text/plain": [
       "<Figure size 72x72 with 1 Axes>"
      ]
     },
     "metadata": {
      "needs_background": "light"
     },
     "output_type": "display_data"
    }
   ],
   "source": [
    "mean7 = stacked_sevens.mean(0)\n",
    "show_image(mean7);"
   ]
  },
  {
   "cell_type": "markdown",
   "id": "62c2e16b-d606-4f0c-b0a2-56a19a52c120",
   "metadata": {},
   "source": [
    "This shows us the ideal 3 and 7."
   ]
  },
  {
   "cell_type": "markdown",
   "id": "0e11f3aa-7884-45d5-95eb-6bfbe41066af",
   "metadata": {},
   "source": [
    "Now, let's grab a 3:"
   ]
  },
  {
   "cell_type": "code",
   "execution_count": 25,
   "id": "dc9237ab-7d55-4d9e-b60a-bccc0833a4c8",
   "metadata": {},
   "outputs": [
    {
     "data": {
      "image/png": "[encoded data removed]",
      "text/plain": [
       "<Figure size 72x72 with 1 Axes>"
      ]
     },
     "metadata": {
      "needs_background": "light"
     },
     "output_type": "display_data"
    }
   ],
   "source": [
    "a_3 = stacked_threes[1]\n",
    "show_image(a_3);"
   ]
  },
  {
   "cell_type": "markdown",
   "id": "41608513-fde5-45fa-8a94-7214828dfa2a",
   "metadata": {},
   "source": [
    "We can find if the a_3 is similar to the 'ideal' 3 or 7.  \n",
    "The one that is more similar to, that's the answer."
   ]
  },
  {
   "cell_type": "markdown",
   "id": "a11dc641-d0ab-4c3d-97ae-ce2dc3a56780",
   "metadata": {},
   "source": [
    "This can be achieved by:  \n",
    "1) Finding the absolute values (simply means removing the minus sign), the take the average. This is called the Mean Absolute Difference or L1 norm.  \n",
    "2) Take the square of each difference and the take the mean then find the square root to undo the squaring. This is called Root Mean Squared Error or L2 norm.|"
   ]
  },
  {
   "cell_type": "code",
   "execution_count": 26,
   "id": "39bdc6ef-74db-40cb-85a3-36cd11905d9f",
   "metadata": {},
   "outputs": [
    {
     "data": {
      "text/plain": [
       "(tensor(0.1114), tensor(0.2021))"
      ]
     },
     "execution_count": 26,
     "metadata": {},
     "output_type": "execute_result"
    }
   ],
   "source": [
    "dist_3_abs = (a_3-mean3).abs().mean()\n",
    "dist_3_sqr = ((a_3-mean3)**2).mean().sqrt()\n",
    "dist_3_abs, dist_3_sqr"
   ]
  },
  {
   "cell_type": "code",
   "execution_count": 27,
   "id": "d45cafe3-533a-45a0-a433-dc9eb2446180",
   "metadata": {},
   "outputs": [
    {
     "data": {
      "text/plain": [
       "(tensor(0.1586), tensor(0.3021))"
      ]
     },
     "execution_count": 27,
     "metadata": {},
     "output_type": "execute_result"
    }
   ],
   "source": [
    "dist_7_abs = (a_3-mean7).abs().mean()\n",
    "dist_7_sqr = ((a_3-mean7)**2).mean().sqrt()\n",
    "dist_7_abs, dist_7_sqr"
   ]
  },
  {
   "cell_type": "markdown",
   "id": "2ea8e2b3-b421-4881-810d-d8f8eae9401c",
   "metadata": {},
   "source": [
    "The distance in terms of absolute from mean of 3 is 0.114 and mean of 7 is 0.1586 so its close to the mean of 3 than the mean of 7. Therefore, we can guess that its a 3 based on the mean absolute differences.  \n",
    "This is same for the root mean squared error."
   ]
  },
  {
   "cell_type": "markdown",
   "id": "74ab9aaa-9ce3-4d3a-88a0-3a33929c47cd",
   "metadata": {},
   "source": [
    "PyTorch already provides both of these as loss functions. You'll find these inside torch.nn.functional, which the PyTorch team recommends importing as F.  \n",
    "mse stands for mean squared error, and l1 refers to the standard mathematical jargon for mean absolute value."
   ]
  },
  {
   "cell_type": "code",
   "execution_count": 28,
   "id": "28fc7a2f-8bd6-4c5f-aa41-8db564122c0b",
   "metadata": {},
   "outputs": [
    {
     "data": {
      "text/plain": [
       "(tensor(0.1586), tensor(0.3021))"
      ]
     },
     "execution_count": 28,
     "metadata": {},
     "output_type": "execute_result"
    }
   ],
   "source": [
    "F.l1_loss(a_3.float(),mean7), F.mse_loss(a_3,mean7).sqrt()"
   ]
  },
  {
   "cell_type": "markdown",
   "id": "cb40a1c6-c740-4071-9f7d-928ee9ac8b46",
   "metadata": {},
   "source": [
    "## Computing metrics using broadcasting"
   ]
  },
  {
   "cell_type": "markdown",
   "id": "0dc1a1e3-2f41-4790-8887-21a7eded3986",
   "metadata": {},
   "source": [
    "Metric -> a number which is calculated from the predictions of our model and the correct labels in our dataset, in order to tell us how good our model is."
   ]
  },
  {
   "cell_type": "markdown",
   "id": "8d9a2316-9aaa-4239-a31b-03752f5dfce0",
   "metadata": {},
   "source": [
    "First, lets create a tensor of our threes and sevens from our valid directory."
   ]
  },
  {
   "cell_type": "code",
   "execution_count": 29,
   "id": "3d656e28-27fc-4515-9df1-957acce2286c",
   "metadata": {},
   "outputs": [
    {
     "data": {
      "text/plain": [
       "(torch.Size([1010, 28, 28]), torch.Size([1028, 28, 28]))"
      ]
     },
     "execution_count": 29,
     "metadata": {},
     "output_type": "execute_result"
    }
   ],
   "source": [
    "valid_3_tens = torch.stack([tensor(Image.open(o))\n",
    "                            for o in (path/'valid'/'3').ls()])\n",
    "valid_3_tens = valid_3_tens.float()/255\n",
    "valid_7_tens = torch.stack([tensor(Image.open(o))\n",
    "                            for o in (path/'valid'/'7').ls()])\n",
    "valid_7_tens = valid_7_tens.float()/255\n",
    "valid_3_tens.shape, valid_7_tens.shape"
   ]
  },
  {
   "cell_type": "markdown",
   "id": "18008f52-ac8e-4ff5-9123-414c54d0cbfe",
   "metadata": {},
   "source": [
    "Let's create a function that takes the difference between two things, takes the absolute value and then takes the mean."
   ]
  },
  {
   "cell_type": "code",
   "execution_count": 30,
   "id": "09ecbf4a-5fd3-480e-9c44-8223bde92303",
   "metadata": {},
   "outputs": [
    {
     "data": {
      "text/plain": [
       "tensor(0.1114)"
      ]
     },
     "execution_count": 30,
     "metadata": {},
     "output_type": "execute_result"
    }
   ],
   "source": [
    "def mnist_distance(a, b): return (a-b).abs().mean((-1, -2))\n",
    "mnist_distance(a_3, mean3)"
   ]
  },
  {
   "cell_type": "markdown",
   "id": "c03f7b8c-0cbb-4c13-8032-56658e4ead6e",
   "metadata": {},
   "source": [
    "We need to do this for every image in the validation set so as to find the overall metric."
   ]
  },
  {
   "cell_type": "code",
   "execution_count": 31,
   "id": "0031b7ce-d194-4f96-a58e-0ffb97e8e346",
   "metadata": {},
   "outputs": [
    {
     "data": {
      "text/plain": [
       "(tensor([0.1328, 0.1523, 0.1245,  ..., 0.1383, 0.1280, 0.1138]),\n",
       " torch.Size([1010]))"
      ]
     },
     "execution_count": 31,
     "metadata": {},
     "output_type": "execute_result"
    }
   ],
   "source": [
    "valid_3_dist = mnist_distance(valid_3_tens, mean3)\n",
    "valid_3_dist, valid_3_dist.shape"
   ]
  },
  {
   "cell_type": "code",
   "execution_count": 32,
   "id": "2aed999c-b013-43b9-adb6-45973ac8b39d",
   "metadata": {},
   "outputs": [
    {
     "data": {
      "text/plain": [
       "torch.Size([1010, 28, 28])"
      ]
     },
     "execution_count": 32,
     "metadata": {},
     "output_type": "execute_result"
    }
   ],
   "source": [
    "valid_3_tens.shape"
   ]
  },
  {
   "cell_type": "code",
   "execution_count": 33,
   "id": "29dd384a-e142-4cf9-b0ed-be1a6e73128b",
   "metadata": {},
   "outputs": [
    {
     "data": {
      "text/plain": [
       "torch.Size([28, 28])"
      ]
     },
     "execution_count": 33,
     "metadata": {},
     "output_type": "execute_result"
    }
   ],
   "source": [
    "mean3.shape"
   ]
  },
  {
   "cell_type": "markdown",
   "id": "3358aab8-9bcf-476d-9573-225178e55bd9",
   "metadata": {},
   "source": [
    "(valid_3_tens - mean3).shape"
   ]
  },
  {
   "cell_type": "markdown",
   "id": "d4af9a95-9fb5-4946-9d59-e73cad79f3a8",
   "metadata": {},
   "source": [
    "Broadcasting is used when carrying out mathematical operations of different rank tensors."
   ]
  },
  {
   "cell_type": "markdown",
   "id": "68214910-2ee4-454b-812e-76b3362a69e0",
   "metadata": {},
   "source": [
    "In this case, we have different shapes. Broadcasting ends up doing is copying mean3 1010 times and acts as if we had valid_3_tens minus 1010 copies of mean3."
   ]
  },
  {
   "cell_type": "markdown",
   "id": "3ef68a1e-c4d2-42e4-ae00-fd9f07b1c5a8",
   "metadata": {},
   "source": [
    "We can now create is_3 function:"
   ]
  },
  {
   "cell_type": "code",
   "execution_count": 34,
   "id": "95c67683-005a-416d-9de0-dc30b68e38cd",
   "metadata": {},
   "outputs": [],
   "source": [
    "def is_3(x): return mnist_distance(x, mean3) < mnist_distance(x,mean7)"
   ]
  },
  {
   "cell_type": "markdown",
   "id": "17096ec0-0263-4626-ab2d-4c95082001c4",
   "metadata": {},
   "source": [
    "Let's check with a_3:"
   ]
  },
  {
   "cell_type": "code",
   "execution_count": 35,
   "id": "a0d2015d-f26a-41dd-9a22-5e46a37a6632",
   "metadata": {},
   "outputs": [
    {
     "data": {
      "text/plain": [
       "(tensor(True), tensor(1.))"
      ]
     },
     "execution_count": 35,
     "metadata": {},
     "output_type": "execute_result"
    }
   ],
   "source": [
    "is_3(a_3), is_3(a_3).float()"
   ]
  },
  {
   "cell_type": "markdown",
   "id": "b1934633-6965-4dde-9f49-bf08f551490c",
   "metadata": {},
   "source": [
    "Using broadcating, we can check the whole validation dataset."
   ]
  },
  {
   "cell_type": "code",
   "execution_count": 36,
   "id": "da8318ca-7969-4dbb-916d-a215603894d8",
   "metadata": {},
   "outputs": [
    {
     "data": {
      "text/plain": [
       "tensor([ True,  True,  True,  ..., False,  True,  True])"
      ]
     },
     "execution_count": 36,
     "metadata": {},
     "output_type": "execute_result"
    }
   ],
   "source": [
    "is_3(valid_3_tens)"
   ]
  },
  {
   "cell_type": "markdown",
   "id": "53915cf1-d5e5-4bfc-b708-bc749e7df57b",
   "metadata": {},
   "source": [
    "Now, we can calculate the accuracy of the threes and sevens by taking the average of the function for all 3s and 7s."
   ]
  },
  {
   "cell_type": "code",
   "execution_count": 37,
   "id": "23d90063-0723-44fb-be3c-343d971048d5",
   "metadata": {},
   "outputs": [
    {
     "data": {
      "text/plain": [
       "(tensor(0.9168), tensor(0.9854), tensor(0.9511))"
      ]
     },
     "execution_count": 37,
     "metadata": {},
     "output_type": "execute_result"
    }
   ],
   "source": [
    "accuracy_3s = is_3(valid_3_tens).float().mean()\n",
    "accuracy_7s = 1 - is_3(valid_7_tens).float().mean()\n",
    "accuracy_3s, accuracy_7s, (accuracy_3s + accuracy_7s)/2"
   ]
  },
  {
   "cell_type": "markdown",
   "id": "8f400bd8-c30b-4c12-8d92-fa939682a2df",
   "metadata": {},
   "source": [
    "Accuracy is 91% for 3s, 98% for 7s and 95% for both.   \n",
    "This is a good baseline."
   ]
  },
  {
   "cell_type": "markdown",
   "id": "e49589ea-cf16-48b9-a1d0-f2a1f4b11012",
   "metadata": {},
   "source": [
    "## Gradient Descent"
   ]
  },
  {
   "cell_type": "markdown",
   "id": "f13bfcf3-63b3-4791-b2ab-9dd00aab5c98",
   "metadata": {},
   "source": [
    "So here are the steps that we are going to require, to turn this function into a machine learning classifier:  \n",
    "1) We will start with a vector w(A vector is a Rank 1 tensor) containing random weights/parameters.  \n",
    "2) Then, we will predict whether the number is a 3 or 7.  \n",
    "3) Based on the predictions, calculate how good the model is (its loss).  \n",
    "4) Key step -> Calculate the gradient, which measure for each weight, how  changing that weight would change the loss.  \n",
    "5) Step/Change all the weights based on that calculation.  \n",
    "6) Go back to step 2 and repeat the process.  \n",
    "7) ... repeat until you decide to stop the training process (for instance because the model is good enough).  \n",
    "\n",
    "These steps are called Gradient Descent"
   ]
  },
  {
   "cell_type": "markdown",
   "id": "5f8d8d1d-801c-4559-8f88-223dae6b4135",
   "metadata": {},
   "source": [
    "We need a loss function that represents how good our model is.  \n",
    "From the loss function, we can calculate our gradient."
   ]
  },
  {
   "cell_type": "markdown",
   "id": "6118fca8-e260-4644-9d33-343393b73302",
   "metadata": {},
   "source": [
    "We have x, the images. We'll concatenate them all into a single tensor and also change then from a list of matrices (Rank3 tensor) to a list of vectors (Rank2 tensor).  \n",
    "This can be achieved by view, a Pytorch method that changes the shape of a tensor without changing its contents."
   ]
  },
  {
   "cell_type": "code",
   "execution_count": 38,
   "id": "5fbe0e92-9d58-46b4-ab61-008dfaff591d",
   "metadata": {},
   "outputs": [],
   "source": [
    "train_x = torch.cat([stacked_threes, stacked_sevens]).view(-1, 28*28)"
   ]
  },
  {
   "cell_type": "markdown",
   "id": "cf0c4cb0-d9cf-444f-92ac-46bda6f17a25",
   "metadata": {},
   "source": [
    "Now we need labels.  \n",
    "Our labels will be 1 for each of the 3s and 0 for each of the 7s. This is basically a \"is_3\" model. This will create a vector and we need it to be matrix in PyTorch."
   ]
  },
  {
   "cell_type": "code",
   "execution_count": 39,
   "id": "607c77a1-e488-40ad-914c-cb101f8bac79",
   "metadata": {},
   "outputs": [
    {
     "data": {
      "text/plain": [
       "(torch.Size([12396, 784]), torch.Size([12396, 1]))"
      ]
     },
     "execution_count": 39,
     "metadata": {},
     "output_type": "execute_result"
    }
   ],
   "source": [
    "train_y = tensor([1]*len(threes) + [0]*len(sevens)).unsqueeze(1)\n",
    "train_x.shape, train_y.shape"
   ]
  },
  {
   "cell_type": "markdown",
   "id": "298ff072-c98d-4e0f-a16f-24bd69a5ea43",
   "metadata": {},
   "source": [
    "Now we turn our x and y into a Dataset.  \n",
    "Python provides a zip function which when combined with list, provides a simple way to get this functionality."
   ]
  },
  {
   "cell_type": "code",
   "execution_count": 40,
   "id": "373f41eb-cd48-4019-a8f7-1f2b291ff70b",
   "metadata": {},
   "outputs": [
    {
     "data": {
      "text/plain": [
       "(torch.Size([784]), tensor([1]))"
      ]
     },
     "execution_count": 40,
     "metadata": {},
     "output_type": "execute_result"
    }
   ],
   "source": [
    "dset = list(zip(train_x, train_y))\n",
    "x, y = dset[0]\n",
    "x.shape, y"
   ]
  },
  {
   "cell_type": "markdown",
   "id": "fe337cbc-fb48-43ec-85c9-3288e47befef",
   "metadata": {},
   "source": [
    "Repeat the same step for the validation set:"
   ]
  },
  {
   "cell_type": "code",
   "execution_count": 41,
   "id": "5ffa7304-ca19-4fd4-a8f0-a15211872a44",
   "metadata": {},
   "outputs": [],
   "source": [
    "valid_x = torch.cat([valid_3_tens, valid_7_tens]).view(-1, 28*28)\n",
    "valid_y = tensor([1]*len(valid_3_tens) + [0]*len(valid_7_tens)).unsqueeze(1)\n",
    "valid_dset = list(zip(valid_x, valid_y))"
   ]
  },
  {
   "cell_type": "markdown",
   "id": "9df6747e-faa2-43fb-8167-05c1ed89a2d8",
   "metadata": {},
   "source": [
    "Now we will start our 7 step process."
   ]
  },
  {
   "cell_type": "markdown",
   "id": "a36833e6-fba3-4efb-ab7c-b538169ca25b",
   "metadata": {},
   "source": [
    "1) Initialize our parameters"
   ]
  },
  {
   "cell_type": "code",
   "execution_count": 42,
   "id": "08a720b8-9f3a-4c7b-910b-688447b78d8b",
   "metadata": {},
   "outputs": [],
   "source": [
    "def init_params(size, std=1.0): return(torch.randn(size)*std).requires_grad_()"
   ]
  },
  {
   "cell_type": "code",
   "execution_count": 43,
   "id": "ca61a831-baa5-468e-87b7-3a1450c5e9ca",
   "metadata": {},
   "outputs": [],
   "source": [
    "weights = init_params((28*28), 1)"
   ]
  },
  {
   "cell_type": "markdown",
   "id": "191ec60e-db2d-4407-ac54-dff50f2e7d03",
   "metadata": {},
   "source": [
    "Initializing a random number for bias:"
   ]
  },
  {
   "cell_type": "code",
   "execution_count": 44,
   "id": "aea7a9fc-9794-410c-a101-fdcd26c7bffe",
   "metadata": {},
   "outputs": [],
   "source": [
    "bias = init_params(1)"
   ]
  },
  {
   "cell_type": "markdown",
   "id": "f3a9361f-d591-4f29-84f1-0c144f79e91e",
   "metadata": {},
   "source": [
    "2) Calculate the predictions"
   ]
  },
  {
   "cell_type": "markdown",
   "id": "5567ed3d-5b99-44f3-84b6-325b1706c1af",
   "metadata": {},
   "source": [
    "For one image:"
   ]
  },
  {
   "cell_type": "code",
   "execution_count": 45,
   "id": "63034b12-5f28-4e94-9571-dc78292e3909",
   "metadata": {},
   "outputs": [
    {
     "name": "stderr",
     "output_type": "stream",
     "text": [
      "/tmp/ipykernel_2407/4052062786.py:1: UserWarning: The use of `x.T` on tensors of dimension other than 2 to reverse their shape is deprecated and it will throw an error in a future release. Consider `x.mT` to transpose batches of matricesor `x.permute(*torch.arange(x.ndim - 1, -1, -1))` to reverse the dimensions of a tensor. (Triggered internally at  ../aten/src/ATen/native/TensorShape.cpp:2981.)\n",
      "  (train_x[0] * weights.T).sum() + bias\n"
     ]
    },
    {
     "data": {
      "text/plain": [
       "tensor([8.9636], grad_fn=<AddBackward0>)"
      ]
     },
     "execution_count": 45,
     "metadata": {},
     "output_type": "execute_result"
    }
   ],
   "source": [
    "(train_x[0] * weights.T).sum() + bias"
   ]
  },
  {
   "cell_type": "markdown",
   "id": "91a7117c-1bd9-410c-a035-c72f11181307",
   "metadata": {},
   "source": [
    "We want to do that for every image.  \n",
    "We could us a for loop but it will be every slow and Python loops don't run on GPUs.  \n",
    "For this reason, a matrix multiplication is the best as it calculates w*x for every row of a matrix.  \n",
    "In Python, matrix multiplication is represented by the @ operator."
   ]
  },
  {
   "cell_type": "code",
   "execution_count": 46,
   "id": "67a1b094-cd0d-499d-82db-ea8d52ed02a6",
   "metadata": {},
   "outputs": [
    {
     "data": {
      "text/plain": [
       "tensor([ 8.9636,  6.2432, 14.4787,  ...,  8.8288,  9.9224,  2.9911],\n",
       "       grad_fn=<AddBackward0>)"
      ]
     },
     "execution_count": 46,
     "metadata": {},
     "output_type": "execute_result"
    }
   ],
   "source": [
    "def linear1(xb): return xb@weights + bias\n",
    "preds = linear1(train_x)\n",
    "preds"
   ]
  },
  {
   "cell_type": "markdown",
   "id": "8fcaf21b-3072-4ba6-8744-9250da1ad27f",
   "metadata": {},
   "source": [
    "3) Check our accuracy"
   ]
  },
  {
   "cell_type": "markdown",
   "id": "be79a8a1-d0ce-4f34-a5ac-fbfa01dc8425",
   "metadata": {},
   "source": [
    "We can decide that anything greater than 0 we will call it a 3, and anything less than a 0 we call it a 7.  \n",
    "So preds greater than 0.0 tells us whether or not something is predicted to be 3 or not. Then, we turn it to a float(1 or 0) because that's what our training set contains.  \n",
    "Then we check whether our thresholded predictions are equal to our training set.  \n",
    "This will return true when predicted correctly and false otherwise."
   ]
  },
  {
   "cell_type": "code",
   "execution_count": 47,
   "id": "18ec09ab-d7b4-4a27-b317-cf16b1fabec9",
   "metadata": {},
   "outputs": [
    {
     "data": {
      "text/plain": [
       "tensor([[ True,  True,  True,  ...,  True,  True,  True],\n",
       "        [ True,  True,  True,  ...,  True,  True,  True],\n",
       "        [ True,  True,  True,  ...,  True,  True,  True],\n",
       "        ...,\n",
       "        [False, False, False,  ..., False, False, False],\n",
       "        [False, False, False,  ..., False, False, False],\n",
       "        [False, False, False,  ..., False, False, False]])"
      ]
     },
     "execution_count": 47,
     "metadata": {},
     "output_type": "execute_result"
    }
   ],
   "source": [
    "corrects = (preds>0.0).float() == train_y\n",
    "corrects"
   ]
  },
  {
   "cell_type": "markdown",
   "id": "b1621155-2505-4891-b505-b5c81444b1ff",
   "metadata": {},
   "source": [
    "Turning then into floats:"
   ]
  },
  {
   "cell_type": "code",
   "execution_count": 48,
   "id": "7469cb72-7804-4db3-8b56-286c9d8abf10",
   "metadata": {},
   "outputs": [
    {
     "data": {
      "text/plain": [
       "0.4955900311470032"
      ]
     },
     "execution_count": 48,
     "metadata": {},
     "output_type": "execute_result"
    }
   ],
   "source": [
    "corrects.float().mean().item()"
   ]
  },
  {
   "cell_type": "markdown",
   "id": "8318aef7-18a2-4d75-98d8-882dfe8a243a",
   "metadata": {},
   "source": [
    "4) Change the derivatives"
   ]
  },
  {
   "cell_type": "markdown",
   "id": "77f7f478-f923-46cb-be63-48a28e57f6d0",
   "metadata": {},
   "source": [
    "Let's change the weight by small bits:"
   ]
  },
  {
   "cell_type": "code",
   "execution_count": 49,
   "id": "9e7df802-9964-4ef3-9893-054ad6708c9c",
   "metadata": {},
   "outputs": [],
   "source": [
    "with torch.no_grad(): weights[0] *= 1.0001"
   ]
  },
  {
   "cell_type": "code",
   "execution_count": 50,
   "id": "40e9b765-8dd3-4d41-9e7c-e8f8dd884cdc",
   "metadata": {},
   "outputs": [
    {
     "data": {
      "text/plain": [
       "0.4955900311470032"
      ]
     },
     "execution_count": 50,
     "metadata": {},
     "output_type": "execute_result"
    }
   ],
   "source": [
    "preds = linear1(train_x)\n",
    "((preds>0.0).float() == train_y).float().mean().item()"
   ]
  },
  {
   "cell_type": "markdown",
   "id": "387ba3d4-4404-470a-a2f7-247279d2ed68",
   "metadata": {},
   "source": [
    "Even after changing the weights, pred is still the same. This means that our gradient is 0 therefore  our step/change is 0 and our prediction will not change.  \n",
    "Therefore, we need to use another thing other than accuracy as our loss function."
   ]
  },
  {
   "cell_type": "markdown",
   "id": "511276ce-18b1-4374-8a96-73c48c02c4d3",
   "metadata": {},
   "source": [
    "Let's try find a loss function that measures the distance between predictions and targets:  \n"
   ]
  },
  {
   "cell_type": "markdown",
   "id": "a5a4e13b-2119-45e0-b3d3-ab486c1ed9b6",
   "metadata": {},
   "source": [
    "##### Sigmoid function  \n",
    "We will apply a sigmoid function.  \n",
    "Sigmoid function works like this: if you pass a small number, e.g -4, you get a number close to 0, and if you pass a big number you get a number close to 1 but never past 1.\n",
    "In the middle, the curve looks like a y=x line.  \n",
    "Sigmoid can be defined by:  \n"
   ]
  },
  {
   "cell_type": "code",
   "execution_count": 51,
   "id": "43e2492c-d4f7-4479-a03f-2937159ecdb2",
   "metadata": {},
   "outputs": [],
   "source": [
    "# def sigmoid(x): return 1/(1 + torch.exp(-x))"
   ]
  },
  {
   "cell_type": "markdown",
   "id": "3ebe8a21-2981-4678-9c5d-c07662902b54",
   "metadata": {},
   "source": [
    "The mnist loss function with a sigmoid function looks like:"
   ]
  },
  {
   "cell_type": "code",
   "execution_count": 52,
   "id": "7e3aa238-28fe-4211-aa61-4a4c9342a07d",
   "metadata": {},
   "outputs": [],
   "source": [
    "def mnist_loss(predictions, targets):\n",
    "    predictions = predictions.sigmoid()\n",
    "    return torch.where(targets==1, 1-predictions, predictions).mean()"
   ]
  },
  {
   "cell_type": "markdown",
   "id": "556944ce-51e1-49e0-a4ed-9d2b35de3e33",
   "metadata": {},
   "source": [
    "##### SGD and Mini-batches\n",
    "We need to create minibatches where we'll:  \n",
    "- Looping through   \n",
    "- calculate a prediction of the images in the minibatch \n",
    "- calculate a loss then  \n",
    "- step the parameters  \n",
    "- do that for other images in the minibatches  \n",
    "\n",
    "We will use a DataLoader to shuffle and minibatch collation. A DataLoader can take any Python collection and turn it into an iterator over mini-batches. A DataLoader can be created from a Dataset:"
   ]
  },
  {
   "cell_type": "code",
   "execution_count": 53,
   "id": "c9829344-f468-47d7-8aee-7e2ee9aff411",
   "metadata": {},
   "outputs": [
    {
     "data": {
      "text/plain": [
       "(torch.Size([256, 784]), torch.Size([256, 1]))"
      ]
     },
     "execution_count": 53,
     "metadata": {},
     "output_type": "execute_result"
    }
   ],
   "source": [
    "dl = DataLoader(dset, batch_size=256)\n",
    "xb, yb = first(dl)\n",
    "xb.shape, yb.shape"
   ]
  },
  {
   "cell_type": "markdown",
   "id": "25e0fcab-6400-41fd-b594-190fad8bc4ba",
   "metadata": {},
   "source": [
    "We'll do the same for the validation set:"
   ]
  },
  {
   "cell_type": "code",
   "execution_count": 54,
   "id": "8a3ad1e3-390f-45d8-80fd-98210119bbe2",
   "metadata": {},
   "outputs": [],
   "source": [
    "valid_dl = DataLoader(valid_dset, batch_size=256)"
   ]
  },
  {
   "cell_type": "markdown",
   "id": "25cb7a1c-2c24-4f5e-8575-5cc90af4e020",
   "metadata": {},
   "source": [
    "Let's create a mini-batch of size 4 for testing:"
   ]
  },
  {
   "cell_type": "code",
   "execution_count": 55,
   "id": "b7be5d26-bf75-4034-9990-7a3adc81882a",
   "metadata": {},
   "outputs": [
    {
     "data": {
      "text/plain": [
       "torch.Size([4, 784])"
      ]
     },
     "execution_count": 55,
     "metadata": {},
     "output_type": "execute_result"
    }
   ],
   "source": [
    "batch = train_x[:4]\n",
    "batch.shape"
   ]
  },
  {
   "cell_type": "markdown",
   "id": "85a4db0c-0b60-4315-961a-a28a6ea2bd90",
   "metadata": {},
   "source": [
    "We pass the batch into a linear function that we created earlier:"
   ]
  },
  {
   "cell_type": "code",
   "execution_count": 56,
   "id": "c24d821f-d810-493c-8f7e-0142fbc4a5b8",
   "metadata": {},
   "outputs": [
    {
     "data": {
      "text/plain": [
       "tensor([ 8.9636,  6.2432, 14.4787, 10.1211], grad_fn=<AddBackward0>)"
      ]
     },
     "execution_count": 56,
     "metadata": {},
     "output_type": "execute_result"
    }
   ],
   "source": [
    "preds=linear1(batch)\n",
    "preds"
   ]
  },
  {
   "cell_type": "markdown",
   "id": "918f5d4a-ad4e-4d16-8b8c-1610ce6fb700",
   "metadata": {},
   "source": [
    "We can calculate the loss using the loss function we just used and let's grab the first 4 items of the training set:"
   ]
  },
  {
   "cell_type": "code",
   "execution_count": 57,
   "id": "a16b74dc-e8d8-4d65-a24c-8af851d3b9aa",
   "metadata": {},
   "outputs": [
    {
     "data": {
      "text/plain": [
       "tensor(0.0005, grad_fn=<MeanBackward0>)"
      ]
     },
     "execution_count": 57,
     "metadata": {},
     "output_type": "execute_result"
    }
   ],
   "source": [
    "loss = mnist_loss(preds, train_y[:4])\n",
    "loss"
   ]
  },
  {
   "cell_type": "markdown",
   "id": "3763ae88-8839-4d73-bf0b-72e51a53df43",
   "metadata": {},
   "source": [
    "Now we can calculate the gradient:"
   ]
  },
  {
   "cell_type": "code",
   "execution_count": 58,
   "id": "aeb622ef-c87b-43e3-8747-c2919e3abd77",
   "metadata": {},
   "outputs": [
    {
     "data": {
      "text/plain": [
       "(torch.Size([784]), tensor(-7.5269e-05), tensor([-0.0005]))"
      ]
     },
     "execution_count": 58,
     "metadata": {},
     "output_type": "execute_result"
    }
   ],
   "source": [
    "loss.backward()\n",
    "weights.grad.shape, weights.grad.mean(), bias.grad"
   ]
  },
  {
   "cell_type": "markdown",
   "id": "c0293dae-b50c-4876-9080-a6951df8c2f8",
   "metadata": {},
   "source": [
    "Putting these step in a function:"
   ]
  },
  {
   "cell_type": "code",
   "execution_count": 59,
   "id": "639aa1b5-f8e7-444f-b5b4-b72f7d370ef6",
   "metadata": {},
   "outputs": [],
   "source": [
    "def calc_grad(xb, yb, model):     #pass the x batch, y batch and model  \n",
    "    preds = model(xb)             #calculate predictions  \n",
    "    loss = mnist_loss(preds, yb)  #calculate loss  \n",
    "    loss.backward()               #do backward step"
   ]
  },
  {
   "cell_type": "markdown",
   "id": "7fcc49a8-5bdf-4d9a-87da-2335183c6ee3",
   "metadata": {},
   "source": [
    "Test it:"
   ]
  },
  {
   "cell_type": "code",
   "execution_count": 60,
   "id": "2d0d7c08-a30f-4251-8e39-d8776e2c6c09",
   "metadata": {},
   "outputs": [
    {
     "data": {
      "text/plain": [
       "(tensor(-0.0002), tensor([-0.0011]))"
      ]
     },
     "execution_count": 60,
     "metadata": {},
     "output_type": "execute_result"
    }
   ],
   "source": [
    "calc_grad(batch, train_y[:4], linear1)   #calculate gradient  \n",
    "weights.grad.mean(), bias.grad"
   ]
  },
  {
   "cell_type": "markdown",
   "id": "a5c4af78-2a05-44dc-9409-2f7e9c9dd24a",
   "metadata": {},
   "source": [
    "Call it a second time:"
   ]
  },
  {
   "cell_type": "code",
   "execution_count": 61,
   "id": "b44b7d65-53fd-4314-923c-a338d59ec553",
   "metadata": {},
   "outputs": [
    {
     "data": {
      "text/plain": [
       "(tensor(-0.0002), tensor([-0.0016]))"
      ]
     },
     "execution_count": 61,
     "metadata": {},
     "output_type": "execute_result"
    }
   ],
   "source": [
    "calc_grad(batch, train_y[:4], linear1)   #calculate gradient  \n",
    "weights.grad.mean(), bias.grad"
   ]
  },
  {
   "cell_type": "markdown",
   "id": "c5e40676-1dda-43b6-8362-8da39c2de266",
   "metadata": {},
   "source": [
    "Here, we get a different value because loss.backward() calculates the gradient and adds them to the existing gradients (In the .grad attribute).\n",
    "What we need to do is call grad.zero_()"
   ]
  },
  {
   "cell_type": "code",
   "execution_count": 62,
   "id": "40d14530-4c5c-46ab-9b33-f5dd3dbb7820",
   "metadata": {},
   "outputs": [
    {
     "data": {
      "text/plain": [
       "tensor([0.])"
      ]
     },
     "execution_count": 62,
     "metadata": {},
     "output_type": "execute_result"
    }
   ],
   "source": [
    "weights.grad.zero_()\n",
    "bias.grad.zero_()"
   ]
  },
  {
   "cell_type": "markdown",
   "id": "844222e2-aedd-493a-a7f9-ac27845d06f3",
   "metadata": {},
   "source": [
    "Now we train one epoch with SGD:"
   ]
  },
  {
   "cell_type": "code",
   "execution_count": 63,
   "id": "6ef7972f-da8b-4fc7-8237-2029784db1d3",
   "metadata": {},
   "outputs": [],
   "source": [
    "def train_epoch(model, lr, params):\n",
    "    for xb, yb in dl:\n",
    "        calc_grad(xb, yb, model)\n",
    "        for p in params:\n",
    "            p.data -= p.grad*lr\n",
    "            p.grad.zero_()"
   ]
  },
  {
   "cell_type": "markdown",
   "id": "cb314eb0-838e-431c-912c-0508c53d7be2",
   "metadata": {},
   "source": [
    "We also want to check how we're doing, by looking at the accuracy of the validation set. To decide if an output represents a 3 or a 7, we can just check whether it's greater than 0. So our accuracy for each item can be calculated (using broadcasting, so no loops!) with:"
   ]
  },
  {
   "cell_type": "code",
   "execution_count": 64,
   "id": "7d0206e2-0681-4f83-b94e-32bb514ea63e",
   "metadata": {},
   "outputs": [
    {
     "data": {
      "text/plain": [
       "tensor([[True, True, True, True],\n",
       "        [True, True, True, True],\n",
       "        [True, True, True, True],\n",
       "        [True, True, True, True]])"
      ]
     },
     "execution_count": 64,
     "metadata": {},
     "output_type": "execute_result"
    }
   ],
   "source": [
    "(preds>0.0).float() == train_y[:4]"
   ]
  },
  {
   "cell_type": "markdown",
   "id": "d035605e-4972-4a64-a8e1-cc515f513b4e",
   "metadata": {},
   "source": [
    "That gives us this function to calculate our validation accuracy:"
   ]
  },
  {
   "cell_type": "code",
   "execution_count": 65,
   "id": "0cb5dc09-6462-4ea6-9777-5898160a9a44",
   "metadata": {},
   "outputs": [],
   "source": [
    "def batch_accuracy(xb, yb):\n",
    "    preds = xb.sigmoid()\n",
    "    correct = (preds > 0.5) ==yb\n",
    "    return correct.float().mean()"
   ]
  },
  {
   "cell_type": "markdown",
   "id": "47730df0-352c-4b78-8860-f2e9554cc492",
   "metadata": {},
   "source": [
    "We can check if it works:"
   ]
  },
  {
   "cell_type": "code",
   "execution_count": 66,
   "id": "808af62e-c26d-4706-8b5d-1a8d59c08e0b",
   "metadata": {},
   "outputs": [
    {
     "data": {
      "text/plain": [
       "tensor(1.)"
      ]
     },
     "execution_count": 66,
     "metadata": {},
     "output_type": "execute_result"
    }
   ],
   "source": [
    "batch_accuracy(linear1(batch), train_y[:4])"
   ]
  },
  {
   "cell_type": "markdown",
   "id": "73b88516-23ff-4b15-a650-fddc2d433b97",
   "metadata": {},
   "source": [
    "and then put the batches together:"
   ]
  },
  {
   "cell_type": "code",
   "execution_count": 67,
   "id": "86bef575-4b86-4432-9be2-be67336efd13",
   "metadata": {},
   "outputs": [],
   "source": [
    "def validate_epoch(model):\n",
    "    accs = [batch_accuracy(model(xb), yb) for xb, yb in valid_dl]\n",
    "    return round(torch.stack(accs).mean().item(), 4)"
   ]
  },
  {
   "cell_type": "markdown",
   "id": "0f4dc26e-9da7-442f-86d8-0b3bc3960632",
   "metadata": {},
   "source": [
    "Here's the validation accuracy:"
   ]
  },
  {
   "cell_type": "code",
   "execution_count": 68,
   "id": "74b61e1e-9ffe-4b6a-a1c7-6943896b17c0",
   "metadata": {},
   "outputs": [
    {
     "data": {
      "text/plain": [
       "0.5305"
      ]
     },
     "execution_count": 68,
     "metadata": {},
     "output_type": "execute_result"
    }
   ],
   "source": [
    "validate_epoch(linear1)"
   ]
  },
  {
   "cell_type": "markdown",
   "id": "88a90fc3-bc75-485b-b694-b079ac062e2c",
   "metadata": {},
   "source": [
    "So now we train for one epoch:"
   ]
  },
  {
   "cell_type": "code",
   "execution_count": 69,
   "id": "a0d9bfc3-0d4a-40eb-bb2b-c272901d554a",
   "metadata": {},
   "outputs": [
    {
     "data": {
      "text/plain": [
       "0.607"
      ]
     },
     "execution_count": 69,
     "metadata": {},
     "output_type": "execute_result"
    }
   ],
   "source": [
    "lr = 1.\n",
    "params = weights, bias\n",
    "train_epoch(linear1, lr, params)\n",
    "validate_epoch(linear1)"
   ]
  },
  {
   "cell_type": "markdown",
   "id": "e8e5aa1f-7b36-4995-85b6-c5e047e18741",
   "metadata": {},
   "source": [
    "Now, we repeat it a few times:"
   ]
  },
  {
   "cell_type": "code",
   "execution_count": 70,
   "id": "6a074fc9-1492-41fa-b08a-5bc5c020ab44",
   "metadata": {},
   "outputs": [
    {
     "name": "stdout",
     "output_type": "stream",
     "text": [
      "0.7932 0.8806 0.9118 0.928 0.9337 0.9379 0.9412 0.9446 0.9465 0.9474 0.9479 0.9493 0.9517 0.9522 0.9527 0.9551 0.9555 0.9569 0.9569 0.9574 "
     ]
    }
   ],
   "source": [
    "for i in range(20):\n",
    "    train_epoch(linear1,lr,params)\n",
    "    print(validate_epoch(linear1), end=' ')"
   ]
  },
  {
   "cell_type": "markdown",
   "id": "8793f8dd-5baa-4d8d-96e3-f3f4798f3dda",
   "metadata": {},
   "source": [
    "Accuracy has improved."
   ]
  },
  {
   "cell_type": "markdown",
   "id": "845fab01-e81e-483a-81fb-f23abf042e93",
   "metadata": {},
   "source": [
    "### Creating an Optimizer"
   ]
  },
  {
   "cell_type": "markdown",
   "id": "0e1b0d93-2c1d-4395-b0bd-6af524f1ffcd",
   "metadata": {},
   "source": [
    "We'll get rid of the linear1 function:"
   ]
  },
  {
   "cell_type": "code",
   "execution_count": 71,
   "id": "97cfce4e-cdb2-439c-965d-670416b40389",
   "metadata": {},
   "outputs": [
    {
     "data": {
      "text/plain": [
       "\u001b[0;31mSignature:\u001b[0m \u001b[0mlinear1\u001b[0m\u001b[0;34m(\u001b[0m\u001b[0mxb\u001b[0m\u001b[0;34m)\u001b[0m\u001b[0;34m\u001b[0m\u001b[0;34m\u001b[0m\u001b[0m\n",
       "\u001b[0;31mDocstring:\u001b[0m <no docstring>\n",
       "\u001b[0;31mSource:\u001b[0m    \u001b[0;32mdef\u001b[0m \u001b[0mlinear1\u001b[0m\u001b[0;34m(\u001b[0m\u001b[0mxb\u001b[0m\u001b[0;34m)\u001b[0m\u001b[0;34m:\u001b[0m \u001b[0;32mreturn\u001b[0m \u001b[0mxb\u001b[0m\u001b[0;34m@\u001b[0m\u001b[0mweights\u001b[0m \u001b[0;34m+\u001b[0m \u001b[0mbias\u001b[0m\u001b[0;34m\u001b[0m\u001b[0;34m\u001b[0m\u001b[0m\n",
       "\u001b[0;31mFile:\u001b[0m      /tmp/ipykernel_2407/3366534937.py\n",
       "\u001b[0;31mType:\u001b[0m      function\n"
      ]
     },
     "metadata": {},
     "output_type": "display_data"
    }
   ],
   "source": [
    "linear1??"
   ]
  },
  {
   "cell_type": "markdown",
   "id": "c48a62ad-eb3d-4ade-9414-c65305818224",
   "metadata": {},
   "source": [
    "We just create a nn.linear class and that's going to create a matrix of size(28, 28, 1) and bias of size 1. It will set requires_grad = True for us."
   ]
  },
  {
   "cell_type": "code",
   "execution_count": 72,
   "id": "9ed07b8b-12df-43c0-95f5-5e49f7738159",
   "metadata": {},
   "outputs": [],
   "source": [
    "linear_model = nn.Linear(28 * 28, 1)"
   ]
  },
  {
   "cell_type": "markdown",
   "id": "8984b6ac-cdf2-4c57-865f-10016d5f8997",
   "metadata": {},
   "source": [
    "To see the parameters, we would expect it to contain 784 weights and 1 bias, we can just call .parameters():"
   ]
  },
  {
   "cell_type": "code",
   "execution_count": 73,
   "id": "32a56243-8fcb-476d-8bed-8cf67a08ce05",
   "metadata": {},
   "outputs": [
    {
     "data": {
      "text/plain": [
       "(torch.Size([1, 784]), torch.Size([1]))"
      ]
     },
     "execution_count": 73,
     "metadata": {},
     "output_type": "execute_result"
    }
   ],
   "source": [
    "w, b = linear_model.parameters()\n",
    "w.shape, b.shape"
   ]
  },
  {
   "cell_type": "markdown",
   "id": "3639c09d-fa47-43d0-a2a5-7a4c4d9d227f",
   "metadata": {},
   "source": [
    "Now, we can create an optimizer:"
   ]
  },
  {
   "cell_type": "code",
   "execution_count": 74,
   "id": "2dab7968-0b0a-4eed-81ff-00a500d24af3",
   "metadata": {},
   "outputs": [],
   "source": [
    "class BasicOptim:\n",
    "    def __init__(self, params, lr): self.params, self.lr = list(params), lr\n",
    "    \n",
    "    def step(self, *args, **kwargs):\n",
    "        for p in self.params: p.data -=p.grad.data * self.lr\n",
    "        \n",
    "    def zero_grad(self, *args, **kwargs):\n",
    "        for p in self.params: p.grad = None"
   ]
  },
  {
   "cell_type": "markdown",
   "id": "f3f7d46a-1492-42e9-a09b-8a017f527c3f",
   "metadata": {},
   "source": [
    "we can pass in the parameters of the linear model and our learning rate:"
   ]
  },
  {
   "cell_type": "code",
   "execution_count": 75,
   "id": "fdce2082-3129-4231-9d77-657a2790556b",
   "metadata": {},
   "outputs": [],
   "source": [
    "opt = BasicOptim(linear_model.parameters(), lr)"
   ]
  },
  {
   "cell_type": "markdown",
   "id": "38e8a0cc-3be9-477b-92ce-3f1854bd7a41",
   "metadata": {},
   "source": [
    "Now our training loop looks through each of the minibatch in the data loader, calculates the gradient, does the opt.step and opt.zero_grad:"
   ]
  },
  {
   "cell_type": "code",
   "execution_count": 76,
   "id": "f23fcd6a-a89b-46ee-bf4b-09cb43cb244b",
   "metadata": {},
   "outputs": [],
   "source": [
    "def train_epoch(model):\n",
    "    for xb, yb in dl:\n",
    "        calc_grad(xb, yb, model)\n",
    "        opt.step()\n",
    "        opt.zero_grad()"
   ]
  },
  {
   "cell_type": "markdown",
   "id": "50c5e5b9-d380-4c2d-9765-e604632646f1",
   "metadata": {},
   "source": [
    "Validation function doesn't need to change:"
   ]
  },
  {
   "cell_type": "code",
   "execution_count": 77,
   "id": "771823e7-01a9-49e0-afc0-d64cfcc9d668",
   "metadata": {},
   "outputs": [
    {
     "data": {
      "text/plain": [
       "0.5134"
      ]
     },
     "execution_count": 77,
     "metadata": {},
     "output_type": "execute_result"
    }
   ],
   "source": [
    "validate_epoch(linear_model)"
   ]
  },
  {
   "cell_type": "markdown",
   "id": "619000df-83ca-44ce-93a9-f7f2e4861d92",
   "metadata": {},
   "source": [
    "So let's put our training loop into a function:"
   ]
  },
  {
   "cell_type": "code",
   "execution_count": 78,
   "id": "94cd0ea2-df4b-4aa9-8115-b5f170080d3c",
   "metadata": {},
   "outputs": [],
   "source": [
    "def train_model(model, epochs):\n",
    "    for i in range(epochs):\n",
    "        train_epoch(model)\n",
    "        print(validate_epoch(model), end=' ')"
   ]
  },
  {
   "cell_type": "code",
   "execution_count": 79,
   "id": "f3b0fa66-5ee7-4fde-9d95-ed368f7e9877",
   "metadata": {},
   "outputs": [
    {
     "name": "stdout",
     "output_type": "stream",
     "text": [
      "0.4932 0.8691 0.8281 0.9111 0.9335 0.9472 0.955 0.9623 0.9662 0.9677 0.9692 0.9716 0.9736 0.975 0.976 0.9765 0.9775 0.978 0.9785 0.9789 "
     ]
    }
   ],
   "source": [
    "train_model(linear_model, 20)"
   ]
  },
  {
   "cell_type": "markdown",
   "id": "7bf85de2-5232-4bd8-ba58-3520f551f9a6",
   "metadata": {},
   "source": [
    "We don't need to come up with BasicOptim, fastai provides SGD class which does the same:"
   ]
  },
  {
   "cell_type": "code",
   "execution_count": 80,
   "id": "f976225f-3654-4de5-8f4d-1cacfef3e5c2",
   "metadata": {},
   "outputs": [
    {
     "name": "stdout",
     "output_type": "stream",
     "text": [
      "0.4932 0.791 0.8515 0.916 0.9355 0.9496 0.9565 0.9638 0.9657 0.9672 0.9697 0.9721 0.9736 0.975 0.976 0.9765 0.9775 0.978 0.978 0.9785 "
     ]
    }
   ],
   "source": [
    "linear_model = nn.Linear(28*28, 1)\n",
    "opt = SGD(linear_model.parameters(), lr)\n",
    "train_model(linear_model, 20)"
   ]
  },
  {
   "cell_type": "markdown",
   "id": "80f52280-cbf7-4e8c-8fc9-f79b27cff3b1",
   "metadata": {},
   "source": [
    "We can now train a model:"
   ]
  },
  {
   "cell_type": "code",
   "execution_count": 81,
   "id": "113b177c-4e72-4e2a-93a2-d0a81fba3b19",
   "metadata": {},
   "outputs": [],
   "source": [
    "dls = DataLoaders(dl, valid_dl)"
   ]
  },
  {
   "cell_type": "code",
   "execution_count": 82,
   "id": "bc85cc44-d6f3-4107-9269-868fb8fe1aa6",
   "metadata": {},
   "outputs": [],
   "source": [
    "learn = Learner(dls, nn.Linear(28*28, 1), opt_func=SGD,\n",
    "                loss_func=mnist_loss, metrics=batch_accuracy)"
   ]
  },
  {
   "cell_type": "markdown",
   "id": "db449fff-3a67-4927-9cdc-b2cf13ebee4e",
   "metadata": {},
   "source": [
    "This will call train_model and train_epoch."
   ]
  },
  {
   "cell_type": "markdown",
   "id": "ab8d90be-b663-4ed5-9fcf-888216c57926",
   "metadata": {},
   "source": [
    "Now we can call fit:"
   ]
  },
  {
   "cell_type": "code",
   "execution_count": 83,
   "id": "a56592ab-4615-42dd-8d92-7939a2a03f62",
   "metadata": {},
   "outputs": [
    {
     "data": {
      "text/html": [
       "\n",
       "<style>\n",
       "    /* Turns off some styling */\n",
       "    progress {\n",
       "        /* gets rid of default border in Firefox and Opera. */\n",
       "        border: none;\n",
       "        /* Needs to be in here for Safari polyfill so background images work as expected. */\n",
       "        background-size: auto;\n",
       "    }\n",
       "    progress:not([value]), progress:not([value])::-webkit-progress-bar {\n",
       "        background: repeating-linear-gradient(45deg, #7e7e7e, #7e7e7e 10px, #5c5c5c 10px, #5c5c5c 20px);\n",
       "    }\n",
       "    .progress-bar-interrupted, .progress-bar-interrupted::-webkit-progress-bar {\n",
       "        background: #F44336;\n",
       "    }\n",
       "</style>\n"
      ],
      "text/plain": [
       "<IPython.core.display.HTML object>"
      ]
     },
     "metadata": {},
     "output_type": "display_data"
    },
    {
     "data": {
      "text/html": [
       "<table border=\"1\" class=\"dataframe\">\n",
       "  <thead>\n",
       "    <tr style=\"text-align: left;\">\n",
       "      <th>epoch</th>\n",
       "      <th>train_loss</th>\n",
       "      <th>valid_loss</th>\n",
       "      <th>batch_accuracy</th>\n",
       "      <th>time</th>\n",
       "    </tr>\n",
       "  </thead>\n",
       "  <tbody>\n",
       "    <tr>\n",
       "      <td>0</td>\n",
       "      <td>0.637430</td>\n",
       "      <td>0.503588</td>\n",
       "      <td>0.495584</td>\n",
       "      <td>00:00</td>\n",
       "    </tr>\n",
       "    <tr>\n",
       "      <td>1</td>\n",
       "      <td>0.569758</td>\n",
       "      <td>0.225416</td>\n",
       "      <td>0.801276</td>\n",
       "      <td>00:00</td>\n",
       "    </tr>\n",
       "    <tr>\n",
       "      <td>2</td>\n",
       "      <td>0.208664</td>\n",
       "      <td>0.174973</td>\n",
       "      <td>0.843474</td>\n",
       "      <td>00:00</td>\n",
       "    </tr>\n",
       "    <tr>\n",
       "      <td>3</td>\n",
       "      <td>0.090253</td>\n",
       "      <td>0.104066</td>\n",
       "      <td>0.913150</td>\n",
       "      <td>00:00</td>\n",
       "    </tr>\n",
       "    <tr>\n",
       "      <td>4</td>\n",
       "      <td>0.046679</td>\n",
       "      <td>0.076577</td>\n",
       "      <td>0.934249</td>\n",
       "      <td>00:00</td>\n",
       "    </tr>\n",
       "    <tr>\n",
       "      <td>5</td>\n",
       "      <td>0.029753</td>\n",
       "      <td>0.061667</td>\n",
       "      <td>0.947988</td>\n",
       "      <td>00:00</td>\n",
       "    </tr>\n",
       "    <tr>\n",
       "      <td>6</td>\n",
       "      <td>0.022873</td>\n",
       "      <td>0.052298</td>\n",
       "      <td>0.955839</td>\n",
       "      <td>00:00</td>\n",
       "    </tr>\n",
       "    <tr>\n",
       "      <td>7</td>\n",
       "      <td>0.019868</td>\n",
       "      <td>0.046026</td>\n",
       "      <td>0.961727</td>\n",
       "      <td>00:00</td>\n",
       "    </tr>\n",
       "    <tr>\n",
       "      <td>8</td>\n",
       "      <td>0.018377</td>\n",
       "      <td>0.041603</td>\n",
       "      <td>0.965653</td>\n",
       "      <td>00:00</td>\n",
       "    </tr>\n",
       "    <tr>\n",
       "      <td>9</td>\n",
       "      <td>0.017499</td>\n",
       "      <td>0.038334</td>\n",
       "      <td>0.967125</td>\n",
       "      <td>00:00</td>\n",
       "    </tr>\n",
       "  </tbody>\n",
       "</table>"
      ],
      "text/plain": [
       "<IPython.core.display.HTML object>"
      ]
     },
     "metadata": {},
     "output_type": "display_data"
    }
   ],
   "source": [
    "learn.fit(10, lr=lr)"
   ]
  },
  {
   "cell_type": "markdown",
   "id": "32721e19-80b8-448f-bde3-cfabbd005b18",
   "metadata": {},
   "source": [
    "## Adding Non-Linearity"
   ]
  },
  {
   "cell_type": "code",
   "execution_count": 84,
   "id": "67b1f055-3dc9-487b-aa8b-e3df489cd019",
   "metadata": {},
   "outputs": [],
   "source": [
    "def simple_net(xb):\n",
    "    res = xb@w1 + b1\n",
    "    res = res.max(tensor(0.0))\n",
    "    res = xb@w2 + b2"
   ]
  },
  {
   "cell_type": "markdown",
   "id": "60b69878-a704-4f5b-acdb-c91034c65658",
   "metadata": {},
   "source": [
    "A simple net does the following:\n",
    "- Takes a linear function\n",
    "- Replaces negatives with 0s\n",
    "- Takes that and puts it through another linear function\n",
    "\n",
    "This is a neural network."
   ]
  },
  {
   "cell_type": "markdown",
   "id": "ade5f47d-cb7b-4dfe-bc20-de13d1c1f992",
   "metadata": {},
   "source": [
    "Initializing weights and biases:"
   ]
  },
  {
   "cell_type": "code",
   "execution_count": 85,
   "id": "d5f992bc-9cc9-4c90-82df-74099ed7a3fa",
   "metadata": {},
   "outputs": [],
   "source": [
    "w1 = init_params((28*28), 30)\n",
    "b1 = init_params(30)\n",
    "w2 = init_params((30,1))\n",
    "b2 = init_params(1)"
   ]
  },
  {
   "cell_type": "markdown",
   "id": "751c990c-1011-4f63-89cb-1d26f91ab2fa",
   "metadata": {},
   "source": [
    "res = res.max(tensor(0.0)) is called the Rectified Linear Unit(ReLU).  \n",
    "In PyTorch, it has a function called F.relu. We can plot it:"
   ]
  },
  {
   "cell_type": "code",
   "execution_count": 87,
   "id": "cdf2278b-5bba-4e35-87ee-48e6b61e8b46",
   "metadata": {},
   "outputs": [
    {
     "data": {
      "image/png": "[encoded data removed]",
      "text/plain": [
       "<Figure size 432x288 with 1 Axes>"
      ]
     },
     "metadata": {
      "needs_background": "light"
     },
     "output_type": "display_data"
    }
   ],
   "source": [
    "from fastbook import *\n",
    "plot_function(F.relu)"
   ]
  },
  {
   "cell_type": "markdown",
   "id": "788efc72-ee54-4965-a751-35e60c852f66",
   "metadata": {},
   "source": [
    "Simplifying things:"
   ]
  },
  {
   "cell_type": "code",
   "execution_count": 88,
   "id": "d3eedacb-9934-48bd-8b62-e07982d103cb",
   "metadata": {},
   "outputs": [],
   "source": [
    "simple_net = nn.Sequential(\n",
    "    nn.Linear(28*28, 30),\n",
    "    nn.ReLU(),\n",
    "    nn.Linear(30,1)\n",
    ")"
   ]
  },
  {
   "cell_type": "code",
   "execution_count": null,
   "id": "0740d74d-e654-46c4-b881-f57e09ae3939",
   "metadata": {},
   "outputs": [],
   "source": []
  }
 ],
 "metadata": {
  "kernelspec": {
   "display_name": "Python 3 (ipykernel)",
   "language": "python",
   "name": "python3"
  },
  "language_info": {
   "codemirror_mode": {
    "name": "ipython",
    "version": 3
   },
   "file_extension": ".py",
   "mimetype": "text/x-python",
   "name": "python",
   "nbconvert_exporter": "python",
   "pygments_lexer": "ipython3",
   "version": "3.9.13"
  }
 },
 "nbformat": 4,
 "nbformat_minor": 5
}
